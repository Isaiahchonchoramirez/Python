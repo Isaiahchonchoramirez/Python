{
 "cells": [
  {
   "cell_type": "markdown",
   "metadata": {
    "deletable": false,
    "editable": false,
    "run_control": {
     "frozen": true
    }
   },
   "source": [
    "## <span style=\"color:blue\">Problem Set 10</span>"
   ]
  },
  {
   "cell_type": "raw",
   "metadata": {},
   "source": [
    "enter your name here"
   ]
  },
  {
   "cell_type": "markdown",
   "metadata": {
    "deletable": false,
    "editable": false,
    "run_control": {
     "frozen": true
    }
   },
   "source": [
    "### <font color=\"blue\">Overview</font>\n",
    "This problem set will introduce you to classes and objects (instances).  The objective is to provide you with a basic understanding of the object-oriented programming. You will create the classes and subclasses below in an incremental fashion.  \n",
    "\n",
    "- Book\n",
    "  - subclass PaperBook \n",
    "  - subclass ElectronicBook\n",
    "- Library \n",
    "\n",
    "A Library instance will keep track of a list of book instances that are owned by that Library.\n",
    "A Book instance will keep track of whether it's currently checked out.\n",
    "\n",
    "The problems in this problem set require you to update the classes and subclasses.  Return to the cell where the class or subclass is defined and update as defined by the problem.  **DO not duplicate the classes or subclasses.  There must be only one instance of the class or subclass is this notebook**."
   ]
  },
  {
   "cell_type": "markdown",
   "metadata": {
    "deletable": false,
    "editable": false,
    "run_control": {
     "frozen": true
    }
   },
   "source": [
    "### <font color=\"blue\">Problem 1</font>\n",
    "Define a class named *Book*. Each instance of Book should have three\n",
    "instance variables: \n",
    "1. _title_ a string.\n",
    "2. _author_ a string.\n",
    "2. _checked_out_ a boolean. \n",
    "\n",
    "The Book constructor takes two formal parameters: _title_ and _author_ and uses these parameters to initialize instance variables _title_ and _author_ respectively.  The third instance variable, _checked_out_, must be initialized to False.\n",
    "\n",
    "Remember that methods in a class always have the parameter _self_ as the first parameter.."
   ]
  },
  {
   "cell_type": "code",
   "execution_count": null,
   "metadata": {},
   "outputs": [],
   "source": [
    "# Define the Book class here\n"
   ]
  },
  {
   "cell_type": "code",
   "execution_count": null,
   "metadata": {},
   "outputs": [],
   "source": [
    "# Use this cell to test the Book class\n",
    "mybook = Book('Kokoro','Natsume Souseki')\n",
    "print('The book title is',mybook.title)\n",
    "print('The author of the book is',mybook.author)\n",
    "if mybook.checked_out == False:\n",
    "    v = 'is not'\n",
    "else:\n",
    "    v = 'is'\n",
    "print('The book',v,'checked out')\n",
    "print(mybook)"
   ]
  },
  {
   "cell_type": "markdown",
   "metadata": {},
   "source": [
    "<div class=\"alert alert-warning\">\n",
    "    <font face=\"verdana\" size=\"2\" color=\"033971\"><strong>Expected Output:</strong><br />\n",
    "The book title is Kokoro<br/>\n",
    "The author of the book is Natsume Souseki<br/>\n",
    "The book is not checked out<br/>\n",
    "<__main__.Book object at 0x009715F0><br/>\n",
    "    \n",
    "When the book object is printed, an object reference is printed since there is no _\\_\\_str\\_\\__ method.  Your object reference will be different than the one shown here.</div>   "
   ]
  },
  {
   "cell_type": "markdown",
   "metadata": {
    "deletable": false,
    "editable": false,
    "run_control": {
     "frozen": true
    }
   },
   "source": [
    "### <font color=\"blue\">Problem 2</font>\n",
    "When objects are printed, python calls the _\\_\\_str\\_\\__ method of the class.  This method should return relevant information about the object. Add an _\\_\\_str\\_\\__ method to the Book class in the cell above.  This method returns a string consisting of the book title and author as shown below."
   ]
  },
  {
   "cell_type": "code",
   "execution_count": null,
   "metadata": {},
   "outputs": [],
   "source": [
    "# Use this cell to verify that the __str__ method of the Book class is working correctly\n",
    "mybook = Book('Kokoro','Natsume Souseki')\n",
    "print('The book title is',mybook.title)\n",
    "print('The author of the book is',mybook.author)\n",
    "if mybook.checked_out == False:\n",
    "    v = 'is not'\n",
    "else:\n",
    "    v = 'is'\n",
    "print('The book',v,'checked out')\n",
    "print(mybook)"
   ]
  },
  {
   "cell_type": "markdown",
   "metadata": {
    "deletable": false,
    "editable": false,
    "run_control": {
     "frozen": true
    }
   },
   "source": [
    "<div class=\"alert alert-warning\">\n",
    "    <font face=\"verdana\" size=\"2\" color=\"033971\"><strong>Expected Output:</strong><br />\n",
    "The book title is Kokoro<br/>\n",
    "The author of the book is Natsume Souseki<br/>\n",
    "The book is not checked out<br/>\n",
    "Kokoro by Natsume Souseki</div> "
   ]
  },
  {
   "cell_type": "markdown",
   "metadata": {
    "deletable": false,
    "editable": false,
    "run_control": {
     "frozen": true
    }
   },
   "source": [
    "### <font color=\"blue\">Problem 3</font>\n",
    "Create a class named Library. The constructor has no parameters other than _self_. This constructor initialize two instance variables as described below:\n",
    "1. _books_ initialized to an empty list \n",
    "2. _tornPageTolerance_ initialized to the value 5 \n"
   ]
  },
  {
   "cell_type": "code",
   "execution_count": null,
   "metadata": {},
   "outputs": [],
   "source": [
    "# define the Library class here\n"
   ]
  },
  {
   "cell_type": "code",
   "execution_count": null,
   "metadata": {},
   "outputs": [],
   "source": [
    "# Use this cell to test the Library class\n",
    "mylibrary = Library()\n",
    "print (mylibrary)"
   ]
  },
  {
   "cell_type": "markdown",
   "metadata": {},
   "source": [
    "<div class=\"alert alert-warning\">\n",
    "    <font face=\"verdana\" size=\"2\" color=\"033971\"><strong>Expected Output:</strong><br />\n",
    "<__main__.Library object at 0x7fe5b42604a8><br/><br />\n",
    "The reference address of your Library object will be different</div> "
   ]
  },
  {
   "cell_type": "markdown",
   "metadata": {
    "deletable": false,
    "editable": false,
    "run_control": {
     "frozen": true
    }
   },
   "source": [
    "### <font color=\"blue\">Problem 4</font>\n",
    "Navigate back up to the cell containing the Library class and add the two methods below.  After you add the methods make sure you run the cell. \n",
    "\n",
    "1. _addBook_:\n",
    "   1. Accepts the parameter _book_ which is an instance of _Book_.\n",
    "   2. Appends _book_ to _self.books_ (initially created by the constructor).\n",
    "  \n",
    "  \n",
    "2. _findBooksBy_:\n",
    "   1. Accepts the parameter _author_.\n",
    "   2. Iterates over the list _self.books_ searching for books written by the author.\n",
    "   3. Returns a list of all books whose _author_ attribute matches the _author_ parameter. "
   ]
  },
  {
   "cell_type": "code",
   "execution_count": null,
   "metadata": {},
   "outputs": [],
   "source": [
    "# Use this cell to test the addBook and findBooksBy emthods\n",
    "books =[('Chesapeake','James A Michener'),('A Wild Sheep Chase', 'Murakami Haruki'),\n",
    "    ('Kappa', 'Akutagawa Ryuunosuke'),('Hawaii', 'James A Michener'),\n",
    "    ('Another Country', 'James Baldwin'),('Go Tell It to the Mountain', 'James Baldwin'),\n",
    "    ('Jane Eyre', 'Charlotte Bronte'),('The Muqaddimah','Ibn Ibn Khaldûn'),\n",
    "    ('The Beginning and the End','Naguib Mahfouz'),('Akhenaten, Dweller in Truth','Naguib Mahfouz')]\n",
    "\n",
    "mylibrary = Library()\n",
    "for book in books:\n",
    "    mybook = Book(book[0],book[1])\n",
    "    mylibrary.addBook(mybook)\n",
    "\n",
    "print('Books by James Michener')\n",
    "for book in mylibrary.findBooksBy(\"James A Michener\"):\n",
    "    print('  ',book.title)\n",
    "\n",
    "print('Books by James Baldwin')\n",
    "for book in mylibrary.findBooksBy(\"James Baldwin\"):\n",
    "    print('  ',book.title)\n",
    "    \n",
    "print('Books by Naguib Mahfouz')\n",
    "for book in mylibrary.findBooksBy(\"Naguib Mahfouz\"):\n",
    "    print('  ',book.title)"
   ]
  },
  {
   "cell_type": "markdown",
   "metadata": {},
   "source": [
    "<div class=\"alert alert-warning\">\n",
    "    <font face=\"verdana\" size=\"2\" color=\"033971\"><strong>Expected Output:</strong><br />\n",
    "Books by James Michener<br/>\n",
    "&nbsp;&nbsp;&nbsp;Chesapeake<br/>\n",
    "&nbsp;&nbsp;&nbsp;Hawaii<br/>\n",
    "Books by James Baldwin<br/>\n",
    "&nbsp;&nbsp;&nbsp;Another Country<br/>\n",
    "&nbsp;&nbsp;&nbsp;Go Tell It to the Mountain<br/>\n",
    "Books by Naguib Mahfouz<br/>\n",
    "&nbsp;&nbsp;&nbsp;The Beginning and the End<br/>\n",
    "&nbsp;&nbsp;&nbsp;Akhenaten, Dweller in Truth</div> "
   ]
  },
  {
   "cell_type": "markdown",
   "metadata": {
    "deletable": false,
    "editable": false,
    "run_control": {
     "frozen": true
    }
   },
   "source": [
    "### <font color=\"blue\">Problem 5</font>\n",
    "Define a subclass of the _Book_ class called _PaperBook_. Since _Paperbook_ is a subclass of _Books_, it automatically inherits the attributes and methods of the class Book.  The _PaperBook_ class has the following characteristics:\n",
    "\n",
    "1. Add a constructor:\n",
    "   1. The constructor accepts the parameters _title_ and _author_.\n",
    "   2. There is no need to explicitly define or initialize _title_ or _author_ in the constructor. Just call the Book class constructor with the parameters _title_ and _author_.\n",
    "   3. Add an attribute called _numTornPages_ and initialize it to 0.<br />\n",
    "<br />   \n",
    "2. Add a method _ripPage_\n",
    "   1. Increments numTornPages by 1<br />\n",
    "<br />   \n",
    "3. Add an _\\_\\_str\\_\\__ method\n",
    "   1. Returns the string self.title + \" by \" + self.author + \" has \"+ self.numTornPages +\" torn page(s)\""
   ]
  },
  {
   "cell_type": "code",
   "execution_count": null,
   "metadata": {},
   "outputs": [],
   "source": [
    "# Define the subclass PaperBook here\n"
   ]
  },
  {
   "cell_type": "code",
   "execution_count": null,
   "metadata": {},
   "outputs": [],
   "source": [
    "# Use this cell to these the PaperBook class\n",
    "paperbook = PaperBook('Snow Country','Kawabata Yasunari')\n",
    "print (paperbook)\n",
    "paperbook.ripPage()\n",
    "print(paperbook)"
   ]
  },
  {
   "cell_type": "markdown",
   "metadata": {
    "deletable": false,
    "editable": false,
    "run_control": {
     "frozen": true
    }
   },
   "source": [
    "<div class=\"alert alert-warning\">\n",
    "    <font face=\"verdana\" size=\"2\" color=\"033971\"><strong>Expected Output:</strong><br />\n",
    "Snow Country by Kawabata Yasunari has 0 torn page(s)<br />\n",
    "Snow Country by Kawabata Yasunari has 1 torn page(s)</div> "
   ]
  },
  {
   "cell_type": "markdown",
   "metadata": {
    "deletable": false,
    "editable": false,
    "run_control": {
     "frozen": true
    }
   },
   "source": [
    "### <font color=\"blue\">Problem 6</font>\n",
    "Define a subclass of Book called _ElectronicBook_ with the method defined below. Since this is a subclass of _Book_ all the methods and attributes of _Book_ are inherited by _ElectronicBook_.\n",
    "\n",
    "```\n",
    "def canCheckOut(self): \n",
    "   return True\n",
    "```\n",
    "\n",
    "There is no need to add a constructor since _ElectronicBook_ inherited the _Book_ constructor.  The subclass _ElectronicBook_ subclass, unlike the _PaperBook_ subclass, has no instance variables, so the constructor is not required. When an _ElectronicBook_ object is instantiated the constructor of the parent class _Book_ is automatically called."
   ]
  },
  {
   "cell_type": "code",
   "execution_count": null,
   "metadata": {},
   "outputs": [],
   "source": [
    "# define the subclass ElectronicBook here\n"
   ]
  },
  {
   "cell_type": "code",
   "execution_count": null,
   "metadata": {},
   "outputs": [],
   "source": [
    "# Use this code to test the ElectronicBook class.\n",
    "ebook = ElectronicBook('Pride and Prejudice and Zombies',\"Seth Grahame-Smith\")\n",
    "print(ebook)\n",
    "print(ebook.canCheckOut())"
   ]
  },
  {
   "cell_type": "markdown",
   "metadata": {
    "deletable": false,
    "editable": false,
    "run_control": {
     "frozen": true
    }
   },
   "source": [
    "<div class=\"alert alert-warning\">\n",
    "    <font face=\"verdana\" size=\"2\" color=\"033971\"><strong>Expected Output:</strong><br />\n",
    "Pride and Prejudice and Zombies by Seth Grahame-Smith<br/>\n",
    "True</div> "
   ]
  },
  {
   "cell_type": "markdown",
   "metadata": {
    "deletable": false,
    "editable": false,
    "run_control": {
     "frozen": true
    }
   },
   "source": [
    "### <font color=\"blue\">Problem 7</font>\n",
    "Add mechanisms for checking books out of and into libraries. Navigate back up to the Library class and add the _willAccept_ method as defined below.  Remember to run the cell containing the Library class. \n",
    "\n",
    "_willAccept_ does the following:\n",
    "\n",
    "1. Accepts the parameter _book_ (which should be an instance of _PaperBook_)<br />\n",
    "2. Use the _isinstance_ function to check that _book_ is an instance of _PaperBook_.<br />\n",
    "<br />\n",
    "3. If _book_ is a _PaperBook_ instance:\n",
    "   1. If the book has fewer torn pages than the value contained in _tornPageTolerance_:\n",
    "      1. Return True.\n",
    "   2. Otherwise:\n",
    "      1. Return False.<br />\n",
    "<br />\n",
    "4. Otherwise:\n",
    "   1. Return True."
   ]
  },
  {
   "cell_type": "code",
   "execution_count": null,
   "metadata": {},
   "outputs": [],
   "source": [
    "# Use this code to test the willAccept method when within the torn page limit.\n",
    "pbook = PaperBook('Pride and Prejudice and Zombies',\"Seth Grahame-Smith\")\n",
    "mylibrary = Library()\n",
    "result = mylibrary.willAccept(pbook)\n",
    "print(pbook.title,'has',pbook.numTornPages,'torn pages',end='')\n",
    "if result == True:\n",
    "    print(', so it has been accepted at the Library')\n",
    "else:\n",
    "    print(', so it has been no accepted at the Library')\n",
    "    \n",
    "# Test when the torn page limit is exceeded\n",
    "for i in range(0,6):\n",
    "    pbook.ripPage()\n",
    "mylibrary = Library()\n",
    "result = mylibrary.willAccept(pbook)\n",
    "print(pbook.title,'has',pbook.numTornPages,'torn pages',end='')\n",
    "if result == True:\n",
    "    print(', so it has been accepted at the Library')\n",
    "else:\n",
    "    print(', so it has been not accepted at the Library')"
   ]
  },
  {
   "cell_type": "markdown",
   "metadata": {
    "deletable": false,
    "editable": false,
    "run_control": {
     "frozen": true
    }
   },
   "source": [
    "<div class=\"alert alert-warning\">\n",
    "    <font face=\"verdana\" size=\"2\" color=\"033971\"><strong>Expected Output:</strong><br />\n",
    "Pride and Prejudice and Zombies has 0 torn pages, so it has been accepted at the Library<br />\n",
    "Pride and Prejudice and Zombies has 6 torn pages, so it has been not accepted at the Library</div> "
   ]
  },
  {
   "cell_type": "markdown",
   "metadata": {
    "deletable": false,
    "editable": false,
    "run_control": {
     "frozen": true
    },
    "slideshow": {
     "slide_type": ""
    },
    "tags": []
   },
   "source": [
    "### <font color=\"blue\">Problem 8</font>\n",
    "Navigate back to the cell containing the _Book_ class and add the methods below.  There is no need to modify PaperBook or ElectronicBook.\n",
    "\n",
    "1. _checkOut_ \n",
    "   1. Accepts no arguments.\n",
    "   2. Sets the current book's _checked_out_ (_self.checked_out_) attribute to True.<br />\n",
    "<br />  \n",
    "2. _checkIn_ \n",
    "   1. Accepts the  parameter _library_ which should be a Library instance. \n",
    "   2. Call the library's _willAccept()_  method with the current book (self).\n",
    "   3. If the library will accept it:\n",
    "      1. Set the _checked_out_ attribute of the book to False.<br />\n",
    "<br />  \n",
    "3. _canCheckOut_\n",
    "   1. Accepts no arguments.\n",
    "   2. if the _checked_out_ attribute is False return True.\n",
    "   3. Otherwise return False."
   ]
  },
  {
   "cell_type": "code",
   "execution_count": null,
   "metadata": {},
   "outputs": [],
   "source": [
    "# Use this code to test the above emthods.\n",
    "pbook = PaperBook('Pride and Prejudice and Zombies',\"Seth Grahame-Smith\")\n",
    "mylibrary = Library()\n",
    "\n",
    "if pbook.canCheckOut() == True:\n",
    "    can = 'can'\n",
    "else:\n",
    "    can = 'cannot'\n",
    "print(pbook.title,can,'be checked out')\n",
    "\n",
    "\n",
    "pbook.checkOut()\n",
    "if pbook.canCheckOut() == True:\n",
    "    can = 'can'\n",
    "else:\n",
    "    can = 'cannot'\n",
    "print(pbook.title,can,'be checked out')\n",
    "\n",
    "pbook.checkIn(mylibrary)\n",
    "if pbook.canCheckOut() == True:\n",
    "    can = 'can'\n",
    "else:\n",
    "    can = 'cannot'\n",
    "print(pbook.title,can,'be checked out')"
   ]
  },
  {
   "cell_type": "markdown",
   "metadata": {
    "deletable": false,
    "editable": false,
    "run_control": {
     "frozen": true
    }
   },
   "source": [
    "<div class=\"alert alert-warning\">\n",
    "    <font face=\"verdana\" size=\"2\" color=\"033971\"><strong>Expected Output:</strong><br />\n",
    "Pride and Prejudice and Zombies can be checked out<br/>\n",
    "Pride and Prejudice and Zombies cannot be checked out<br/>\n",
    "Pride and Prejudice and Zombies can be checked out</div> "
   ]
  },
  {
   "cell_type": "markdown",
   "metadata": {
    "deletable": false,
    "editable": false,
    "run_control": {
     "frozen": true
    }
   },
   "source": [
    "### <font color=\"blue\">Problem 9</font>\n",
    "Navigate back up to the cell containing the Library class. Add the method below to the Library class. Remember to run the cell after you add the method.\n",
    "\n",
    "1. _getBooksYouCanCheckOut_\n",
    "   1. Accepts no arguments \n",
    "   2. Return a list containing every book in the library that can be checked out. "
   ]
  },
  {
   "cell_type": "code",
   "execution_count": null,
   "metadata": {},
   "outputs": [],
   "source": [
    "# Use this cell to test the getBooksYouCanCheckOut method\n",
    "mylibrary = Library()\n",
    "book = Book('Pride and Prejudice and Zombies',\"Seth Grahame-Smith\")\n",
    "mylibrary.addBook(book)\n",
    "book = Book('Abraham Lincoln:Vampire Hunter',\"Seth Grahame-Smith\")\n",
    "mylibrary.addBook(book)\n",
    "for book in mylibrary.getBooksYouCanCheckOut():\n",
    "    print(book.title,\"can be checked out\")\n",
    "print()\n",
    "mylibrary = Library()\n",
    "book = Book('Pride and Prejudice and Zombies',\"Seth Grahame-Smith\")\n",
    "mylibrary.addBook(book)\n",
    "book = Book('Abraham Lincoln:Vampire Hunter',\"Seth Grahame-Smith\")\n",
    "book.checkOut()\n",
    "print(book.title,\"was checked out\")\n",
    "mylibrary.addBook(book)\n",
    "for book in mylibrary.getBooksYouCanCheckOut():\n",
    "    print(book.title,\"can be checked out\")"
   ]
  },
  {
   "cell_type": "markdown",
   "metadata": {
    "deletable": false,
    "editable": false,
    "run_control": {
     "frozen": true
    }
   },
   "source": [
    "<div class=\"alert alert-warning\">\n",
    "    <font face=\"verdana\" size=\"2\" color=\"033971\"><strong>Expected Output:</strong><br />\n",
    "Pride and Prejudice and Zombies can be checked out<br />\n",
    "Abraham Lincoln:Vampire Hunter can be checked out<br />\n",
    "<br />\n",
    "Abraham Lincoln:Vampire Hunter was checked out<br />\n",
    "Pride and Prejudice and Zombies can be checked out</div> "
   ]
  },
  {
   "cell_type": "markdown",
   "metadata": {
    "deletable": false,
    "editable": false,
    "run_control": {
     "frozen": true
    }
   },
   "source": [
    "### <font color=\"blue\">Problem 10</font>\n",
    "Do the following: \n",
    "\n",
    "1. Create a Library instance called _baileyLibrary_.\n",
    "2. Iterate over _paperbook\\_titles_ defined below:\n",
    "   1. Create a _PaperBook_ instance using the title and author in _paperbook_titles_. \n",
    "   2. Add to  _PaperBook_ instance to the _baileyLibrary_ instance using the _addBook_ method.\n",
    "3. Find all books authored by \"Steven Pinker\" using the _findBooksBy_ method.\n",
    "4. Iterate over the list returned by _findBooksBy_:\n",
    "   1.  Print the book title."
   ]
  },
  {
   "cell_type": "code",
   "execution_count": null,
   "metadata": {},
   "outputs": [],
   "source": [
    "paperbook_titles = [('How the Mind Works', 'Steven Pinker'),\n",
    "        ('Always Leading, Forever Valiant', 'Kim Clarke'),\n",
    "        ('The Language Instinct: How the Mind Creates Language', 'Steven Pinker'),\n",
    "        ('The Last Lecture', 'Randy Pausch'),\n",
    "        ('The Stuff of Thought: Language as a Window into Human Nature', 'Steven Pinker')]\n",
    "# write your code below\n"
   ]
  },
  {
   "cell_type": "markdown",
   "metadata": {
    "deletable": false,
    "editable": false,
    "run_control": {
     "frozen": true
    }
   },
   "source": [
    "<div class=\"alert alert-warning\">\n",
    "    <font face=\"verdana\" size=\"2\" color=\"033971\"><strong>Expected Output:</strong><br />\n",
    "Books authored by Steven Pinker:<br/>\n",
    "How the Mind Works<br/>\n",
    "The Language Instinct: How the Mind Creates Language<br/>\n",
    "The Stuff of Thought: Language as a Window into Human Nature</div> "
   ]
  }
 ],
 "metadata": {
  "kernelspec": {
   "display_name": "Python 3 (ipykernel)",
   "language": "python",
   "name": "python3"
  },
  "language_info": {
   "codemirror_mode": {
    "name": "ipython",
    "version": 3
   },
   "file_extension": ".py",
   "mimetype": "text/x-python",
   "name": "python",
   "nbconvert_exporter": "python",
   "pygments_lexer": "ipython3",
   "version": "3.12.5"
  }
 },
 "nbformat": 4,
 "nbformat_minor": 4
}
