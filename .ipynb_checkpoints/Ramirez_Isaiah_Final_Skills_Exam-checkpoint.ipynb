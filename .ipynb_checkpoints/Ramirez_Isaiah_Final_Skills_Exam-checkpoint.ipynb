{
 "cells": [
  {
   "cell_type": "code",
   "execution_count": null,
   "id": "643eb9fd-24ae-4bfc-9042-75b05cace35e",
   "metadata": {},
   "outputs": [],
   "source": [
    "with open('population.json', 'r') as file:\n",
    "    data = json.load(file)\n",
    "\n",
    "# Display the structure of the data\n",
    "print(type(data))  # Check the type of the data\n",
    "print(data[:5])"
   ]
  }
 ],
 "metadata": {
  "kernelspec": {
   "display_name": "Python 3 (ipykernel)",
   "language": "python",
   "name": "python3"
  },
  "language_info": {
   "codemirror_mode": {
    "name": "ipython",
    "version": 3
   },
   "file_extension": ".py",
   "mimetype": "text/x-python",
   "name": "python",
   "nbconvert_exporter": "python",
   "pygments_lexer": "ipython3",
   "version": "3.12.5"
  }
 },
 "nbformat": 4,
 "nbformat_minor": 5
}
