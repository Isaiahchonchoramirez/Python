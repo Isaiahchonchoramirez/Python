{
 "cells": [
  {
   "cell_type": "markdown",
   "metadata": {
    "deletable": false,
    "editable": false,
    "run_control": {
     "frozen": true
    }
   },
   "source": [
    "## <span style=\"color:blue\">Problem Set 11</span>"
   ]
  },
  {
   "cell_type": "raw",
   "metadata": {},
   "source": [
    "Isaiah Ramirez"
   ]
  },
  {
   "cell_type": "markdown",
   "metadata": {
    "deletable": false,
    "editable": false,
    "run_control": {
     "frozen": true
    }
   },
   "source": [
    "### <font color=\"blue\">Overview</font>\n",
    "The problems below must be solved using map, filter, zip, or a list comprehension as indicated in the instructions.\n",
    "\n",
    "#### <font color=\"blue\">Run the cell below</font>\n",
    "By running this cell, all the items in that cell are loaded into the address space making them available for use in later cells.  Do not duplicate any of the code below in later cells."
   ]
  },
  {
   "cell_type": "code",
   "execution_count": null,
   "metadata": {
    "deletable": false,
    "editable": false
   },
   "outputs": [],
   "source": [
    "myInts = [i for i in range(1,501) ]\n",
    "words = ['python', 'program', 'list', 'string', 'unix', 'hours', 'syntax', 'error']\n",
    "myQuote = \"The quality of mercy is not strained it dropeth as the gentle rain from heaven\""
   ]
  },
  {
   "cell_type": "markdown",
   "metadata": {
    "deletable": false,
    "editable": false,
    "run_control": {
     "frozen": true
    }
   },
   "source": [
    "### <font color=\"blue\">Problem 1</font>\n",
    "The problem requires the _computeScrabbleScore_ developed in previous problem sets. For this problem, Use the _map_ function and the _computeScrabbleScore_ function to create and print a list of scrabble word scores for the words in the list _words_."
   ]
  },
  {
   "cell_type": "code",
   "execution_count": null,
   "metadata": {},
   "outputs": [],
   "source": [
    "# write your code below\n"
   ]
  },
  {
   "cell_type": "markdown",
   "metadata": {
    "deletable": false,
    "editable": false,
    "run_control": {
     "frozen": true
    }
   },
   "source": [
    "<div class=\"alert alert-warning\">\n",
    "    <font face=\"verdana\" size=\"2\" color=\"033971\"><strong>Expected Output:</strong><br />\n",
    "[14, 12, 4, 7, 11, 8, 16, 5]</div>"
   ]
  },
  {
   "cell_type": "markdown",
   "metadata": {
    "deletable": false,
    "editable": false,
    "run_control": {
     "frozen": true
    }
   },
   "source": [
    "### <font color=\"blue\">Problem 2</font>\n",
    "Using the list *words*, produce a list of words, called evenWords, whose word length is an even number.  Write the function *selectWord* that is passed the string parameter *word*.  The function returns *True* if the length of the string is an even number; otherwise *False* is returned. Use the *filter* function and *selectWord* function to produce the output."
   ]
  },
  {
   "cell_type": "code",
   "execution_count": null,
   "metadata": {},
   "outputs": [],
   "source": [
    "# write your code below\n"
   ]
  },
  {
   "cell_type": "markdown",
   "metadata": {
    "deletable": false,
    "editable": false,
    "run_control": {
     "frozen": true
    }
   },
   "source": [
    "<div class=\"alert alert-warning\">\n",
    "    <font face=\"verdana\" size=\"2\" color=\"033971\"><strong>Expected Output:</strong><br />\n",
    "['python', 'list', 'string', 'unix', 'syntax']</div>"
   ]
  },
  {
   "cell_type": "markdown",
   "metadata": {
    "deletable": false,
    "editable": false,
    "run_control": {
     "frozen": true
    }
   },
   "source": [
    "### <font color=\"blue\">Problem 3</font>\n",
    "Alter your solution for problem 2 to use a *list comprehension* instead of the *filter* function.  Note, you will need to use a list comprehension with the nested *if* syntax."
   ]
  },
  {
   "cell_type": "code",
   "execution_count": null,
   "metadata": {},
   "outputs": [],
   "source": [
    "# write your code below\n"
   ]
  },
  {
   "cell_type": "markdown",
   "metadata": {
    "deletable": false,
    "editable": false,
    "run_control": {
     "frozen": true
    }
   },
   "source": [
    "<div class=\"alert alert-warning\">\n",
    "    <font face=\"verdana\" size=\"2\" color=\"033971\"><strong>Expected Output:</strong><br />\n",
    "['python', 'list', 'string', 'unix', 'syntax']</div>"
   ]
  },
  {
   "cell_type": "markdown",
   "metadata": {
    "deletable": false,
    "editable": false,
    "run_control": {
     "frozen": true
    }
   },
   "source": [
    "### <font color=\"blue\">Problem 4</font>\n",
    "Use a list comprehension to produce a list of tuples using each word in myQuote but in reverse order.  Each tuple consists of the word and the Scrabble score of the word.  Hint: the reversed function is useful."
   ]
  },
  {
   "cell_type": "code",
   "execution_count": null,
   "metadata": {},
   "outputs": [],
   "source": [
    "# write your code below\n"
   ]
  },
  {
   "cell_type": "markdown",
   "metadata": {
    "deletable": false,
    "editable": false,
    "run_control": {
     "frozen": true
    }
   },
   "source": [
    "<div class=\"alert alert-warning\">\n",
    "    <font face=\"verdana\" size=\"2\" color=\"033971\"><strong>Expected Output:</strong><br />\n",
    "[('heaven', 16), ('from', 9), ('rain', 4), ('gentle', 7), ('the', 6), ('as', 2), ('dropeth', 13), ('it', 2), ('strained', 9), ('not', 3), ('is', 2), ('mercy', 12), ('of', 5), ('quality', 19), ('The', 6)]</div>"
   ]
  },
  {
   "cell_type": "markdown",
   "metadata": {
    "deletable": false,
    "editable": false,
    "run_control": {
     "frozen": true
    }
   },
   "source": [
    "### <font color=\"blue\">Problem 5</font>\n",
    "The variable *names* below is a list where each element is a string in \"First Name Last Name\" sequence. Derive the lst *newNames* from *names* where each element is in \"Last Name, First Name\" sequence.  Use a list comprehension to convert the list. Hint, you will need to split each name into the First and Last.  Remember 'a' + 'b' ==> 'ab'. "
   ]
  },
  {
   "cell_type": "code",
   "execution_count": null,
   "metadata": {},
   "outputs": [],
   "source": [
    "names = [\"Isaac Newton\", \"Albert Einstein\", \"Niels Bohr\", \"Marie Curie\",\"Charles Darwin\", \"Galileo Galilei\", \"Margaret Mead\"]\n",
    "# write your code below\n"
   ]
  },
  {
   "cell_type": "markdown",
   "metadata": {
    "deletable": false,
    "editable": false,
    "run_control": {
     "frozen": true
    }
   },
   "source": [
    "<div class=\"alert alert-warning\">\n",
    "    <font face=\"verdana\" size=\"2\" color=\"033971\"><strong>Expected Output:</strong><br />\n",
    "['Newton, Isaac', 'Einstein, Albert', 'Bohr, Niels', 'Curie, Marie', 'Darwin, Charles', 'Galilei, Galileo', 'Mead, Margaret']</div>"
   ]
  },
  {
   "cell_type": "markdown",
   "metadata": {
    "deletable": false,
    "editable": false,
    "run_control": {
     "frozen": true
    }
   },
   "source": [
    "### <font color=\"blue\">Problem 6</font>\n",
    "Use a list comprehension to find all of the numbers in the list _myInts_ that are evenly divisible by 17.  Store those numbers in the list _div17_. Print _div17_.  You need two lines of code: the list comprehension, and the print statement.\n",
    "\n",
    "To determine if a number is divisible by 17, divide the number by 17.  If the reminder is 0, the number is evenly divisible."
   ]
  },
  {
   "cell_type": "code",
   "execution_count": null,
   "metadata": {},
   "outputs": [],
   "source": [
    "# write your code below\n"
   ]
  },
  {
   "cell_type": "markdown",
   "metadata": {
    "deletable": false,
    "editable": false,
    "run_control": {
     "frozen": true
    }
   },
   "source": [
    "<div class=\"alert alert-warning\">\n",
    "    <font face=\"verdana\" size=\"2\" color=\"033971\"><strong>Expected Output:</strong><br />\n",
    "[17, 34, 51, 68, 85, 102, 119, 136, 153, 170, 187, 204, 221, 238, 255, 272, 289, 306, 323, 340, 357, 374, 391, 408, 425, 442, 459, 476, 493]</div>"
   ]
  },
  {
   "cell_type": "markdown",
   "metadata": {},
   "source": [
    "### <font color=\"blue\">Problem 7</font>\n",
    "Use a list comprehension to find all of the numbers in the list _myInts_ that contain a 15 or 17 in the number.  Store those numbers in the list _lst35_.  Print _lst35_.  "
   ]
  },
  {
   "cell_type": "code",
   "execution_count": null,
   "metadata": {},
   "outputs": [],
   "source": [
    "# write your code below\n"
   ]
  },
  {
   "cell_type": "markdown",
   "metadata": {
    "deletable": false,
    "editable": false,
    "run_control": {
     "frozen": true
    }
   },
   "source": [
    "<div class=\"alert alert-warning\">\n",
    " <font face=\"verdana\" size=\"2\" color=\"033971\"><strong>Expected Output:</strong><br />\n",
    "[15, 17 , 115, 117, 150, 151, 152, 153, 154, 155, 156, 157, 158, 159, 170, 171, 172, 173, 174, 175, 176, 177, 178, 179, 215, 217, 315, 317, 415, 417]</div>"
   ]
  },
  {
   "cell_type": "markdown",
   "metadata": {
    "deletable": false,
    "editable": false,
    "run_control": {
     "frozen": true
    }
   },
   "source": [
    "### <font color=\"blue\">Problem 8</font>\n",
    "Soundex is an algorithm that does a phonetic comparision of a string against another string.  Typically soundex is used to search for names _that sound the same_.  The expected output below shows the result of searching the list _people_ using the surnames in the list srcList.\n",
    "\n",
    "The first few lines of code in the cell below import the soundex module and instantiate an soundex object in the variable _soundsLike_.  The method of interest for this problem is _compare_.  This method may be used as follows:\n",
    "\n",
    "      soundsLike.compare('Smith','Smith')  # names are the same, so 0 is returned \n",
    "      0\n",
    "      soundsLike.compare('Smith','Smythe') # names sound the same, so 1 is returned \n",
    "      1\n",
    "      soundsLike.compare('Ramos','Somar') # names are not phonetically the same, so 2 is returned\n",
    "      2\n",
    "      \n",
    "The _compare_ method returns 0 if both strings are same, 1 if both strings sound the same, and 2 if strings are phonetically not same. \n",
    "\n",
    "For this problem, you need to iterate over the _srcList_ and find the names in the _people_ list that are the same (0) or sound the same(1).  Within the loop, write a  list comprehension that searchs _people_ people using their last name. While you are not required to do so, you are challenged to write one list comprehension that produces the list of identical or sounds like names.  However you choose to do this, a list comprehension must be used to search and produce the output list.\n",
    "\n",
    "If you are interested in pursuing this further, the method _soundex_ of the soundsLike object returns the soundex code for a string."
   ]
  },
  {
   "cell_type": "code",
   "execution_count": null,
   "metadata": {},
   "outputs": [],
   "source": [
    "import soundex\n",
    "soundsLike = soundex.Soundex()\n",
    "\n",
    "people = ['John Doe','Sarah Smith','Jane Deo','Guido Sarducci','Amaya Marks','Georgiana Ramos','Mae Yang','Ian Symth','Xanthe Cramer','Bilal Kramer','Archibald Fister','Clara Alexander','Daniyal Castillo','Alexia Samiet','Alex Boune','Kane Roamas','Uzair Hebert','Kelsey Baldwin','Demi-Leigh Fyster','Jessie Odling','Flora Buune','Aqsa Mccann','Pablo Boone','Marcus Huffman','Omar Smythe']\n",
    "\n",
    "srcList = ['Smith','Boone','Fister','Ramos']\n",
    "\n",
    "# write your code below\n"
   ]
  },
  {
   "cell_type": "markdown",
   "metadata": {
    "deletable": false,
    "editable": false,
    "run_control": {
     "frozen": true
    }
   },
   "source": [
    "<div class=\"alert alert-warning\">\n",
    " <font face=\"verdana\" size=\"2\" color=\"033971\"><strong>Expected Output:</strong><br />\n",
    "Searching for Smith<br />\n",
    "['Sarah Smith', 'Ian Symth', 'Alexia Samiet', 'Omar Smythe']<br />\n",
    "<br />\n",
    "Searching for Boone<br />\n",
    "['Alex Boune', 'Flora Buune', 'Pablo Boone']<br />\n",
    "<br />\n",
    "Searching for Fister<br />\n",
    "['Archibald Fister', 'Demi-Leigh Fyster']<br />\n",
    "<br />\n",
    "Searching for Ramos<br />\n",
    "['Georgiana Ramos', 'Mae Yang', 'Kane Roamas']</div>"
   ]
  },
  {
   "cell_type": "markdown",
   "metadata": {
    "deletable": false,
    "editable": false,
    "run_control": {
     "frozen": true
    }
   },
   "source": [
    "### <font color=\"blue\">Problem 9</font>\n",
    "Use a list comprehensions and zip to create a list called _wordTups_ from the string _myQuote_.  Each element in _wordTups_ is a tuple where the first element of the tuple is the word (from the set of words in _myQuote_)  the second element is the length of the word, and the third element is the Scrabble score for the word. Print _wordTups_.  \n",
    "\n",
    "While not required, you are challenged is to solve this problem using one statement to create the list and another statement to print the list."
   ]
  },
  {
   "cell_type": "code",
   "execution_count": null,
   "metadata": {},
   "outputs": [],
   "source": [
    "# write your code below\n"
   ]
  },
  {
   "cell_type": "markdown",
   "metadata": {
    "deletable": false,
    "editable": false,
    "run_control": {
     "frozen": true
    }
   },
   "source": [
    "<div class=\"alert alert-warning\">\n",
    " <font face=\"verdana\" size=\"2\" color=\"033971\"><strong>Expected Output:</strong><br />\n",
    "[('The', 3, 6), ('quality', 7, 19), ('of', 2, 5), ('mercy', 5, 12), ('is', 2, 2), ('not', 3, 3), ('strained', 8, 9), ('it', 2, 2), ('dropeth', 7, 13), ('as', 2, 2), ('the', 3, 6), ('gentle', 6, 7), ('rain', 4, 4), ('from', 4, 9), ('heaven', 6, 16)]</div>"
   ]
  },
  {
   "cell_type": "markdown",
   "metadata": {
    "deletable": false,
    "editable": false,
    "run_control": {
     "frozen": true
    }
   },
   "source": [
    "### <font color=\"blue\">Problem 10</font>\n",
    "The lists _a_ and _b_ represents the length of two sides of a set of right triangles.  Calculate the length of the hypotenuse _c_ for each triangle using the formula:$$c = \\sqrt{a^2 + b^2}$$\n",
    "\n",
    "Using the zip function, print a formatted table identical to the one shown below.  \n",
    "\n",
    "Note, you will need to import the math module and use the math.sqrt (square root) function."
   ]
  },
  {
   "cell_type": "code",
   "execution_count": null,
   "metadata": {},
   "outputs": [],
   "source": [
    "import math\n",
    "\n",
    "a = [5,7,8,4,9]\n",
    "b = [4,6,7,3,8]\n",
    "\n",
    "# write your code below\n",
    "\n"
   ]
  },
  {
   "cell_type": "markdown",
   "metadata": {
    "deletable": false,
    "editable": false,
    "run_control": {
     "frozen": true
    }
   },
   "source": [
    "<div class=\"alert alert-warning\">\n",
    " <font face=\"verdana\" size=\"2\" color=\"033971\"><strong>Expected Output:</strong><br />\n",
    "Your output format should be similar to, if not identical to the output below</div>"
   ]
  },
  {
   "cell_type": "raw",
   "metadata": {},
   "source": [
    "Hypotenuse   Side 1   Side 2\n",
    "----------- ------- --------\n",
    "        6.4       5        4\n",
    "        9.2       7        6\n",
    "       10.6       8        7\n",
    "        5.0       4        3\n",
    "       12.0       9        8"
   ]
  }
 ],
 "metadata": {
  "kernelspec": {
   "display_name": "Python 3 (ipykernel)",
   "language": "python",
   "name": "python3"
  },
  "language_info": {
   "codemirror_mode": {
    "name": "ipython",
    "version": 3
   },
   "file_extension": ".py",
   "mimetype": "text/x-python",
   "name": "python",
   "nbconvert_exporter": "python",
   "pygments_lexer": "ipython3",
   "version": "3.12.5"
  },
  "varInspector": {
   "cols": {
    "lenName": 16,
    "lenType": 16,
    "lenVar": 40
   },
   "kernels_config": {
    "python": {
     "delete_cmd_postfix": "",
     "delete_cmd_prefix": "del ",
     "library": "var_list.py",
     "varRefreshCmd": "print(var_dic_list())"
    },
    "r": {
     "delete_cmd_postfix": ") ",
     "delete_cmd_prefix": "rm(",
     "library": "var_list.r",
     "varRefreshCmd": "cat(var_dic_list()) "
    }
   },
   "types_to_exclude": [
    "module",
    "function",
    "builtin_function_or_method",
    "instance",
    "_Feature"
   ],
   "window_display": false
  }
 },
 "nbformat": 4,
 "nbformat_minor": 4
}
