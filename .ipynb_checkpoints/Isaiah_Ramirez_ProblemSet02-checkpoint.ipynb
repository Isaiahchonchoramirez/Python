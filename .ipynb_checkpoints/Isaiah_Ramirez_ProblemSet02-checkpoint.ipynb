{
 "cells": [
  {
   "cell_type": "markdown",
   "metadata": {
    "deletable": false,
    "editable": false,
    "run_control": {
     "frozen": true
    }
   },
   "source": [
    "## <span style=\"color:blue\">Problem Set 2</span>"
   ]
  },
  {
   "cell_type": "raw",
   "metadata": {},
   "source": [
    "Isaiah Ramirez"
   ]
  },
  {
   "cell_type": "markdown",
   "metadata": {
    "deletable": false,
    "editable": false,
    "run_control": {
     "frozen": true
    }
   },
   "source": [
    "### <font color='blue'>Note:</font>\n",
    "1.  The variables in the first cell are used in later problems.  Do not duplicate the code in the first cell in later cells or attempt to use the variable names, defined in the first cell, in your code except as directed by the instructions.\n",
    "<br />\n",
    "2.  Use the variable names defined in the instructions for each problem.  Failure to do so will result in a loss of points.\n",
    "<br />\n",
    "3. You need to use code to arrive at a solution.  Hardcoding a solution results in 0 points for the problem.\n",
    "<br />\n",
    "4. **Use only syntax covered in the Units so far.**  Using any other syntax results in 0 points for the problem.\n",
    "\n",
    "### <font color='blue'>Run the cell below first</font>\n",
    "Before starting the assignment, run the cell below. By running this cell, the functions in that cell are loaded into the address space of your notebook, which makes them available to use in your code."
   ]
  },
  {
   "cell_type": "code",
   "execution_count": 33,
   "metadata": {
    "deletable": false,
    "editable": false
   },
   "outputs": [],
   "source": [
    "sentence = 'Half a league, half a league, Half a league onward, All in the valley of Death rode the six hundred'\n",
    "colors = ['red','green','blue','orange','magenta','brown','white','black']\n",
    "vowels = ('a','e','i','o')"
   ]
  },
  {
   "cell_type": "markdown",
   "metadata": {
    "deletable": false,
    "editable": false,
    "run_control": {
     "frozen": true
    }
   },
   "source": [
    "### <font color=\"blue\">Problem 1:</font>\n",
    "\n",
    "Write code in the cell below that does the following:\n",
    "  1. Assign the tenth character in _sentence_ to the variable _char_.\n",
    "  2. Print _char_\n",
    "  3. Concatenate (join) the sixth character and the last character of _sentence_ and store the result _chars_.\n",
    "  4. Print _chars_.\n",
    "  5. Assign the length of _sentence_ to the variable _lens_.\n",
    "  6. Print the length of _lens_.\n",
    "  7. Write an assignment statement that stores in the variable stars a string consisting of one thousands asterisks(*).  Do not hard code a string of 1000 asterisks.\n",
    "  8. Print the length of stars."
   ]
  },
  {
   "cell_type": "code",
   "execution_count": 7,
   "metadata": {},
   "outputs": [
    {
     "name": "stdout",
     "output_type": "stream",
     "text": [
      "a\n",
      "\n",
      "ad\n",
      "\n",
      "99\n",
      "\n",
      "1000\n"
     ]
    }
   ],
   "source": [
    "char = sentence[9]\n",
    "print(char)\n",
    "print()\n",
    "\n",
    "chars = sentence[5] + sentence[-1]\n",
    "print(chars)\n",
    "print()\n",
    "\n",
    "lens = len(sentence)\n",
    "print(lens)\n",
    "print()\n",
    "\n",
    "stars = '*' * 1000\n",
    "print(len(stars))\n"
   ]
  },
  {
   "cell_type": "markdown",
   "metadata": {
    "deletable": false,
    "editable": false,
    "run_control": {
     "frozen": true
    }
   },
   "source": [
    "<div class=\"alert alert-warning\">\n",
    "    <font face=\"verdana\" size=\"2\" color=\"033971\"><strong>Expected Output:</strong><br />\n",
    "a<br />\n",
    "ad<br />\n",
    "99<br />\n",
    "1000</div>"
   ]
  },
  {
   "cell_type": "markdown",
   "metadata": {
    "deletable": false,
    "editable": false,
    "run_control": {
     "frozen": true
    }
   },
   "source": [
    "### <font color=\"blue\">Problem 2:</font>\n",
    "\n",
    "Write code in the cell below that does the following:\n",
    "  1. Replace all occurances of the word \"league\" with the word \"mile\" in the string _sentence_ and store the result in the variable _newSent_.  Do not change _sentence_. \n",
    "  2. Print _newSent_\n",
    "  3. Assign the variable _numWords_ the number of words in the string _sentence_. Hint, the string class has the method split(). Do not be concerned about the commas.\n",
    "  3. Print _numWords_.\n",
    "  4. Write an assignment statement that reverses the string _sentence_ using slices and stores the result in _revSent_.\n",
    "  5. Print _revSent_."
   ]
  },
  {
   "cell_type": "code",
   "execution_count": 13,
   "metadata": {},
   "outputs": [
    {
     "name": "stdout",
     "output_type": "stream",
     "text": [
      "Half a mile, half a mile, Half a mile onward, All in the valley of Death rode the six hundred\n",
      "\n",
      "20\n",
      "\n",
      "derdnuh xis eht edor htaeD fo yellav eht ni llA ,drawno eugael a flaH ,eugael a flah ,eugael a flaH\n"
     ]
    }
   ],
   "source": [
    "newSent = sentence.replace(\"league\", \"mile\")\n",
    "print(newSent)\n",
    "print()\n",
    "\n",
    "numWords = len(sentence.split())\n",
    "print(numWords)\n",
    "print()\n",
    "\n",
    "revSent = sentence[::-1]\n",
    "print(revSent)\n"
   ]
  },
  {
   "cell_type": "markdown",
   "metadata": {
    "deletable": false,
    "editable": false,
    "run_control": {
     "frozen": true
    }
   },
   "source": [
    "<div class=\"alert alert-warning\">\n",
    "    <font face=\"verdana\" size=\"2\" color=\"033971\"><strong>Expected Output:</strong><br />\n",
    "Half a mile, half a mile, Half a mile onward, All in the valley of Death rode the six hundred<br />\n",
    "20<br />\n",
    "derdnuh xis eht edor htaeD fo yellav eht ni llA ,drawno eugael a flaH ,eugael a flah ,eugael a flaH</div>"
   ]
  },
  {
   "cell_type": "markdown",
   "metadata": {
    "deletable": false,
    "editable": false,
    "run_control": {
     "frozen": true
    }
   },
   "source": [
    "### <font color=\"blue\">Problem 3:</font>\n",
    "\n",
    "Write code below that does the following:\n",
    "1. Shifts with wraparound the string _sentence_ three position to the right  and stores the result in _rotSent_. This means that the last three characters of the string become the first three characters and the last three characters of the original string are dropped.  Hint:  string slices are helpful.\n",
    "2. Print _rotSent_"
   ]
  },
  {
   "cell_type": "code",
   "execution_count": 14,
   "metadata": {},
   "outputs": [
    {
     "name": "stdout",
     "output_type": "stream",
     "text": [
      "redHalf a league, half a league, Half a league onward, All in the valley of Death rode the six hund\n"
     ]
    }
   ],
   "source": [
    "rotSent = sentence[-3:] + sentence[:-3]\n",
    "print(rotSent)"
   ]
  },
  {
   "cell_type": "markdown",
   "metadata": {
    "deletable": false,
    "editable": false,
    "run_control": {
     "frozen": true
    }
   },
   "source": [
    "<div class=\"alert alert-warning\">\n",
    "    <font face=\"verdana\" size=\"2\" color=\"033971\"><strong>Expected Output:</strong><br />\n",
    "redHalf a league, half a league, Half a league onward, All in the valley of Death rode the six hund</div>"
   ]
  },
  {
   "cell_type": "markdown",
   "metadata": {
    "deletable": false,
    "editable": false,
    "run_control": {
     "frozen": true
    }
   },
   "source": [
    "### <font color=\"blue\">Problem 4:</font>\n",
    "\n",
    "Write code below that does the following:\n",
    "1. Uses list slices to assign the fifth through the second element in the list _colors_ to the variable _myColors_.\n",
    "2. Print myColors.\n",
    "3. Create a new list _extColors_ that includes all of the elements in _colors_ plus the additional the element \"pink\". Your code must use the list _colors_ in the creation of the _extColors_.\n",
    "4. Print _extColors_. \n",
    "5. Create the string _newColors_ that consists of all the elements in colors separated by a comma.\n",
    "6. Print _newColors_"
   ]
  },
  {
   "cell_type": "code",
   "execution_count": 17,
   "metadata": {},
   "outputs": [
    {
     "name": "stdout",
     "output_type": "stream",
     "text": [
      "['magenta', 'orange', 'blue']\n",
      "\n",
      "['red', 'green', 'blue', 'orange', 'magenta', 'brown', 'white', 'black', 'pink']\n",
      "\n",
      "red,green,blue,orange,magenta,brown,white,black\n"
     ]
    }
   ],
   "source": [
    "myColors = colors[4:1:-1]\n",
    "print(myColors)\n",
    "print()\n",
    "\n",
    "extColors = colors + ['pink'] #Add pink function.\n",
    "print(extColors)\n",
    "print()\n",
    "\n",
    "newColors = \",\".join(colors)\n",
    "print(newColors)\n"
   ]
  },
  {
   "cell_type": "markdown",
   "metadata": {
    "deletable": false,
    "editable": false,
    "run_control": {
     "frozen": true
    }
   },
   "source": [
    "<div class=\"alert alert-warning\">\n",
    "    <font face=\"verdana\" size=\"2\" color=\"033971\"><strong>Expected Output:</strong><br />\n",
    "['magenta', 'orange', 'blue', 'green']<br />\n",
    "['red', 'green', 'blue', 'orange', 'magenta', 'brown', 'white', 'black', 'pink']<br/>\n",
    "red,green,blue,orange,magenta,brown,white,black\n",
    "</div>"
   ]
  },
  {
   "cell_type": "markdown",
   "metadata": {
    "deletable": false,
    "editable": false,
    "run_control": {
     "frozen": true
    }
   },
   "source": [
    "### <font color=\"blue\">Problem 5:</font>\n",
    "\n",
    "Write code below that does the following:\n",
    "1. Shifts with wraparound the list _colors_ three positions to the right  and stores the result in _rotColors_.This means that the last three elements of the list _colors_ become the first three elements and the last three elements of the original list are dropped.  \n",
    "2. Print _rotColors_"
   ]
  },
  {
   "cell_type": "code",
   "execution_count": 22,
   "metadata": {},
   "outputs": [
    {
     "name": "stdout",
     "output_type": "stream",
     "text": [
      "['brown', 'white', 'black', 'red', 'green', 'blue', 'orange', 'magenta']\n"
     ]
    }
   ],
   "source": [
    "rotColors = colors[-3:] + colors[:-3]\n",
    "print(rotColors)"
   ]
  },
  {
   "cell_type": "markdown",
   "metadata": {
    "deletable": false,
    "editable": false,
    "run_control": {
     "frozen": true
    }
   },
   "source": [
    "<div class=\"alert alert-warning\">\n",
    "    <font face=\"verdana\" size=\"2\" color=\"033971\"><strong>Expected Output:</strong><br />\n",
    "['brown', 'white', 'black', 'red', 'green', 'blue', 'orange', 'magenta']\n",
    "</div>"
   ]
  },
  {
   "cell_type": "markdown",
   "metadata": {
    "deletable": false,
    "editable": false,
    "run_control": {
     "frozen": true
    }
   },
   "source": [
    "### <font color=\"blue\">Problem 6:</font>\n",
    "\n",
    "The code snippet below is intended to count the number of elements in the list _colors_.  Do the following to complete the it:\n",
    "1. Where indicated in the cell below, write an assignment statement that adds 1 to the variable _colorCount_.\n",
    "2. Print _colorCount_ as shown in the expected output."
   ]
  },
  {
   "cell_type": "code",
   "execution_count": 23,
   "metadata": {},
   "outputs": [
    {
     "name": "stdout",
     "output_type": "stream",
     "text": [
      "The number of colors is 8\n"
     ]
    }
   ],
   "source": [
    "colorCount = 0\n",
    "for color in colors:\n",
    "    # write your statement below\n",
    "    colorCount += 1\n",
    "# write the print statement below\n",
    "print(f\"The number of colors is {colorCount}\")"
   ]
  },
  {
   "cell_type": "markdown",
   "metadata": {
    "deletable": false,
    "editable": false,
    "run_control": {
     "frozen": true
    }
   },
   "source": [
    "<div class=\"alert alert-warning\">\n",
    "    <font face=\"verdana\" size=\"2\" color=\"033971\"><strong>Expected Output:</strong><br />\n",
    "The number of colors is 8</div>"
   ]
  },
  {
   "cell_type": "markdown",
   "metadata": {
    "deletable": false,
    "editable": false,
    "run_control": {
     "frozen": true
    }
   },
   "source": [
    "### <font color=\"blue\">Problem 7:</font>\n",
    "\n",
    "Write code below the removes the element \"black\" from _locColors_. DO NOT make any assumptions as to the location of the color black in the list.  Assume that it may be any element. Print _locColors_. "
   ]
  },
  {
   "cell_type": "code",
   "execution_count": 36,
   "metadata": {},
   "outputs": [
    {
     "name": "stdout",
     "output_type": "stream",
     "text": [
      "['red', 'green', 'blue', 'orange', 'magenta', 'brown', 'white']\n"
     ]
    }
   ],
   "source": [
    "locColors = ['red','green','blue','orange','magenta','brown','white','black']\n",
    "# write your code below\n",
    "\n",
    "locColors.remove(\"black\") #othermethods #locColors = [color for color in locColors if color != \"black\"]  #locColors = list(filter(lambda color: color != \"black\", locColors))\n",
    "#Add back black or simply run string at top #locColors.append(\"black\")\n",
    "\n",
    "print(locColors)"
   ]
  },
  {
   "cell_type": "markdown",
   "metadata": {
    "deletable": false,
    "editable": false,
    "run_control": {
     "frozen": true
    }
   },
   "source": [
    "<div class=\"alert alert-warning\">\n",
    "    <font face=\"verdana\" size=\"2\" color=\"033971\"><strong>Expected Output:</strong><br />\n",
    "['red', 'green', 'blue', 'orange', 'magenta', 'brown', 'white']</div>"
   ]
  },
  {
   "cell_type": "markdown",
   "metadata": {
    "deletable": false,
    "editable": false,
    "run_control": {
     "frozen": true
    }
   },
   "source": [
    "### <font color=\"blue\">Problem 8:</font>\n",
    "\n",
    "Write code below that does the following:\n",
    "1. Creates a tuple called _numsTuple_ that has the elments 5,13,27,89. \n",
    "2. Print _numsTuple_\n",
    "3. Write an assignment statement where indicated in the cell below that adds _n_ to _tot_.\n",
    "3. Prints _tot_ as shown below in expected output."
   ]
  },
  {
   "cell_type": "code",
   "execution_count": 38,
   "metadata": {},
   "outputs": [
    {
     "name": "stdout",
     "output_type": "stream",
     "text": [
      "(5, 13, 27, 89)\n",
      "Total of all elements is 134\n"
     ]
    }
   ],
   "source": [
    "# write code below to define and print numsTuple here\n",
    "numsTuple = (5, 13, 27, 89)\n",
    "print(numsTuple)\n",
    "\n",
    "tot = 0\n",
    "for n in numsTuple:\n",
    "        # write the assignment statement here\n",
    "        tot += n\n",
    "# write the print statement below\n",
    "print(f\"Total of all elements is {tot}\")"
   ]
  },
  {
   "cell_type": "markdown",
   "metadata": {
    "deletable": false,
    "editable": false,
    "run_control": {
     "frozen": true
    }
   },
   "source": [
    "<div class=\"alert alert-warning\">\n",
    "    <font face=\"verdana\" size=\"2\" color=\"033971\"><strong>Expected Output:</strong><br />\n",
    "(5, 13, 27, 89)<br />\n",
    "Total of all elements is 134</div>"
   ]
  },
  {
   "cell_type": "markdown",
   "metadata": {
    "deletable": false,
    "editable": false,
    "run_control": {
     "frozen": true
    }
   },
   "source": [
    "### <font color=\"blue\">Problem 9:</font>\n",
    "\n",
    "Write code below that uses the + operator to append the string \"u\" as an element of the tuple _vowels_. Print vowels."
   ]
  },
  {
   "cell_type": "code",
   "execution_count": 39,
   "metadata": {},
   "outputs": [
    {
     "name": "stdout",
     "output_type": "stream",
     "text": [
      "('a', 'e', 'i', 'o', 'u')\n"
     ]
    }
   ],
   "source": [
    "vowels = vowels + ('u',)\n",
    "print(vowels)"
   ]
  },
  {
   "cell_type": "markdown",
   "metadata": {
    "deletable": false,
    "editable": false,
    "run_control": {
     "frozen": true
    }
   },
   "source": [
    "<div class=\"alert alert-warning\">\n",
    "    <font face=\"verdana\" size=\"2\" color=\"033971\"><strong>Expected Output:</strong><br />\n",
    "('a', 'e', 'i', 'o','u')</div>"
   ]
  },
  {
   "cell_type": "markdown",
   "metadata": {},
   "source": [
    "### <font color=\"blue\">Problem 10:</font>\n",
    "\n",
    "Write code below that uses the Turtle module to create a basic shape.  You have the liberty to create whatever shape you desire."
   ]
  },
  {
   "cell_type": "code",
   "execution_count": 55,
   "metadata": {},
   "outputs": [
    {
     "ename": "SyntaxError",
     "evalue": "invalid syntax (1258511627.py, line 4)",
     "output_type": "error",
     "traceback": [
      "\u001b[0;36m  Cell \u001b[0;32mIn[55], line 4\u001b[0;36m\u001b[0m\n\u001b[0;31m    import python-tk\u001b[0m\n\u001b[0m                 ^\u001b[0m\n\u001b[0;31mSyntaxError\u001b[0m\u001b[0;31m:\u001b[0m invalid syntax\n"
     ]
    }
   ],
   "source": [
    "#pip install mobilechelonian\n",
    "\n",
    "import turtle as speedy\n",
    "\n",
    "\n",
    "\n",
    "\n",
    "\n",
    "\n",
    "\n",
    "\n"
   ]
  },
  {
   "cell_type": "markdown",
   "metadata": {
    "deletable": false,
    "editable": false,
    "run_control": {
     "frozen": true
    }
   },
   "source": [
    "### <font color=\"blue\">Run the cells below to test your code</font>"
   ]
  },
  {
   "cell_type": "code",
   "execution_count": null,
   "metadata": {
    "deletable": false,
    "editable": false
   },
   "outputs": [],
   "source": [
    "import unittest\n",
    "\n",
    "class PS02_01 (unittest.TestCase):\n",
    "    def test_problem01(self):\n",
    "        self.assertEqual(char, 'a')\n",
    "        self.assertEqual(chars, 'ad')\n",
    "        self.assertEqual(lens,99)\n",
    "        self.assertEqual(len(stars),1000)\n",
    "    \n",
    "class PS02_02 (unittest.TestCase):\n",
    "    def test_problem02(self):\n",
    "        s = 'Half a mile, half a mile, Half a mile onward, All in the valley of Death rode the six hundred'\n",
    "        self.assertEqual(newSent,s)\n",
    "        self.assertEqual(numWords,20)\n",
    "        \n",
    "class PS02_03 (unittest.TestCase):\n",
    "    def test_problem03(self):\n",
    "        s = 'redHalf a league, half a league, Half a league onward, All in the valley of Death rode the six hund'\n",
    "        self.assertEqual(rotSent,s)\n",
    "\n",
    "class PS02_04 (unittest.TestCase):\n",
    "    def test_problem04(self):\n",
    "        l = ['magenta', 'orange', 'blue', 'green']\n",
    "        self.assertEqual(myColors,l)\n",
    "        l = ['red', 'green', 'blue', 'orange', 'magenta', 'brown', 'white', 'black', 'pink']\n",
    "        self.assertEqual(extColors,l)\n",
    "        s = 'red,green,blue,orange,magenta,brown,white,black'\n",
    "        self.assertEqual(newColors,s)\n",
    "\n",
    "class PS02_05 (unittest.TestCase):\n",
    "    def test_problem05(self):\n",
    "        l = ['brown', 'white', 'black', 'red', 'green', 'blue', 'orange', 'magenta']\n",
    "        self.assertEqual(rotColors,l)        \n",
    "        \n",
    "class PS02_06 (unittest.TestCase):\n",
    "    def test_problem06(self):\n",
    "        self.assertEqual(colorCount,8)         \n",
    "        \n",
    "class PS02_07 (unittest.TestCase):\n",
    "    def test_problem07(self):\n",
    "        l = ['red', 'green', 'blue', 'orange', 'magenta', 'brown', 'white']\n",
    "        self.assertEqual(locColors,l)\n",
    "        \n",
    "class PS02_08 (unittest.TestCase):\n",
    "    def test_problem08(self):\n",
    "        self.assertIsInstance(numsTuple,tuple)\n",
    "        self.assertEqual(tot,134)\n",
    "        \n",
    "class PS02_09 (unittest.TestCase):\n",
    "    def test_problem09(self):\n",
    "        self.assertIsInstance(vowels,tuple)\n",
    "        t = ('a', 'e', 'i', 'o','u')\n",
    "        self.assertEqual(vowels,t)"
   ]
  },
  {
   "cell_type": "code",
   "execution_count": null,
   "metadata": {
    "deletable": false,
    "editable": false
   },
   "outputs": [],
   "source": [
    "unittest.main(argv=['first-arg-is-ignored'], exit=False, verbosity=2)"
   ]
  },
  {
   "cell_type": "code",
   "execution_count": null,
   "metadata": {},
   "outputs": [],
   "source": []
  }
 ],
 "metadata": {
  "kernelspec": {
   "display_name": "Python 3 (ipykernel)",
   "language": "python",
   "name": "python3"
  },
  "language_info": {
   "codemirror_mode": {
    "name": "ipython",
    "version": 3
   },
   "file_extension": ".py",
   "mimetype": "text/x-python",
   "name": "python",
   "nbconvert_exporter": "python",
   "pygments_lexer": "ipython3",
   "version": "3.12.5"
  },
  "varInspector": {
   "cols": {
    "lenName": 16,
    "lenType": 16,
    "lenVar": 40
   },
   "kernels_config": {
    "python": {
     "delete_cmd_postfix": "",
     "delete_cmd_prefix": "del ",
     "library": "var_list.py",
     "varRefreshCmd": "print(var_dic_list())"
    },
    "r": {
     "delete_cmd_postfix": ") ",
     "delete_cmd_prefix": "rm(",
     "library": "var_list.r",
     "varRefreshCmd": "cat(var_dic_list()) "
    }
   },
   "types_to_exclude": [
    "module",
    "function",
    "builtin_function_or_method",
    "instance",
    "_Feature"
   ],
   "window_display": false
  }
 },
 "nbformat": 4,
 "nbformat_minor": 4
}
