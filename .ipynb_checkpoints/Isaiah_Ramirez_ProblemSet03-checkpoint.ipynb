{
 "cells": [
  {
   "cell_type": "markdown",
   "metadata": {
    "deletable": false,
    "editable": false,
    "run_control": {
     "frozen": true
    }
   },
   "source": [
    "## <span style=\"color:blue\">Problem Set 3</span>"
   ]
  },
  {
   "cell_type": "raw",
   "metadata": {},
   "source": [
    "enter your name here"
   ]
  },
  {
   "cell_type": "markdown",
   "metadata": {
    "deletable": false,
    "editable": false,
    "run_control": {
     "frozen": true
    }
   },
   "source": [
    "### <font color='blue'>Note:</font>\n",
    "1. Use the variable names defined in the instructions for each problem.  Failure to do so will result in a loss of points.\n",
    "\n",
    "2. You need to use code to arrive at a solution. Hard coding a solution results in 0 points for the problem.\n",
    "\n",
    "3. Use only syntax covered in the Units so far. Using any other syntax results in 0 points for the problem.\n"
   ]
  },
  {
   "cell_type": "markdown",
   "metadata": {
    "deletable": false,
    "editable": false,
    "run_control": {
     "frozen": true
    }
   },
   "source": [
    "### <font color=\"blue\">Problem 1</font>\n",
    "\n",
    "In the cell below, write code that iterates over the string _myStr_ and does the following:\n",
    "1. Print each character.\n",
    "2. Count the number of characters and stores the result the variable _cntChars_.  Do not use any functions to count.\n",
    "\n",
    "Print the variable _myStr_ and _cntChars_ with an appropriate label as shown below in Expected Output."
   ]
  },
  {
   "cell_type": "code",
   "execution_count": null,
   "metadata": {},
   "outputs": [],
   "source": [
    "myStr = \"MICHIGAN\"\n",
    "\n",
    "# Write your code below.\n"
   ]
  },
  {
   "cell_type": "markdown",
   "metadata": {
    "deletable": false,
    "editable": false,
    "run_control": {
     "frozen": true
    }
   },
   "source": [
    "<div class=\"alert alert-warning\">\n",
    "    <font face=\"verdana\" size=\"2\" color=\"033971\"><strong>Expected Output:</strong><br />\n",
    "M<br/>\n",
    "I<br/>\n",
    "C<br/>\n",
    "H<br/>\n",
    "I<br/>\n",
    "G<br/>\n",
    "A<br/>\n",
    "N<br />\n",
    "The number of characters in MICHIGAN is 8</div>"
   ]
  },
  {
   "cell_type": "markdown",
   "metadata": {
    "deletable": false,
    "editable": false,
    "run_control": {
     "frozen": true
    }
   },
   "source": [
    "### <font color=\"blue\">Problem 2</font>\n",
    "\n",
    "In the cell below, write one loop that iterates over the list _mixedList_ and does the following:\n",
    "1. Prints each element and the element type.\n",
    "2. Count the number of elements and store the result in the variable _cntList_.  Do not use any function to count.\n",
    "3. Print _cntList_ preceded by an appropriate label as shown below."
   ]
  },
  {
   "cell_type": "code",
   "execution_count": null,
   "metadata": {},
   "outputs": [],
   "source": [
    "mixedList = [\"hello\", 2, 4, 6.0, 7.5, 234352354, \"the end\", \"\", 99]\n",
    "\n",
    "# Write your code below.\n"
   ]
  },
  {
   "cell_type": "markdown",
   "metadata": {
    "deletable": false,
    "editable": false,
    "run_control": {
     "frozen": true
    }
   },
   "source": [
    "<div class=\"alert alert-warning\">\n",
    "    <font face=\"verdana\" size=\"2\" color=\"033971\"><strong>Expected Output:</strong><br />\n",
    "hello <class 'str'><br/>\n",
    "2 < class 'int'><br/>\n",
    "4 < class 'int'><br/>\n",
    "6.0 < class 'float'><br/>\n",
    "7.5 < class 'float'><br/>\n",
    "234352354 < class 'int'><br/>\n",
    "the end < class 'str'><br/>\n",
    " < class 'str'><br/>\n",
    "99 < class 'int'><br />\n",
    "The number of elements in the list is 9</div>"
   ]
  },
  {
   "cell_type": "markdown",
   "metadata": {
    "deletable": false,
    "editable": false,
    "run_control": {
     "frozen": true
    }
   },
   "source": [
    "### <font color=\"blue\">Problem 3</font>\n",
    "Write code that iterates over to the string _sentence_ and does the following:\n",
    "1. Count the number of characters using the variable _numChars_.\n",
    "2. Count the number of vowels using the variable _numVowels_. A character is a vowel if it is a member of the tuple _vowels_. \n",
    "3. Print the variables _numChars_ and _numVowels_ preceded by appropriate labels as shown below. \n",
    "\n",
    "Do NOT use the a function to solve the problem.  You may use the _len_ function on the string to confirm the your answer is correct. "
   ]
  },
  {
   "cell_type": "code",
   "execution_count": null,
   "metadata": {},
   "outputs": [],
   "source": [
    "sentence = \"The quick brown rhino jumped over the extremely lazy fox.\"\n",
    "vowels = ('a','e','i','o','u')\n",
    "# Write your code below.\n"
   ]
  },
  {
   "cell_type": "markdown",
   "metadata": {
    "deletable": false,
    "editable": false,
    "run_control": {
     "frozen": true
    }
   },
   "source": [
    "<div class=\"alert alert-warning\">\n",
    "    <font face=\"verdana\" size=\"2\" color=\"033971\"><strong>Expected Output:</strong><br />\n",
    "The number of characters is  57<br />\n",
    "The number of vowels is  16\n",
    "</div>"
   ]
  },
  {
   "cell_type": "markdown",
   "metadata": {
    "deletable": false,
    "editable": false,
    "run_control": {
     "frozen": true
    }
   },
   "source": [
    "### <font color=\"blue\">Problem 4</font>\n",
    "\n",
    "Write code in the cell below that does the following:\n",
    "1. Create a list called _words_ from the words in the string _sentence_.\n",
    "2. Iterate over _words_ \n",
    "    1. Add to a list called _wordLens_ which contains the length of the current word.\n",
    "    2. Count the current word using the variable _numWords_.  Do not use a function.\n",
    "    3. Print the word and the word length.\n",
    "3. Print _numWords_ as shown in expected output. \n",
    "4. Print the list _wordLens_.\n",
    "\n",
    "You need one loop to solve this problem.  You may use the _len_ and _split_ functions. "
   ]
  },
  {
   "cell_type": "code",
   "execution_count": null,
   "metadata": {},
   "outputs": [],
   "source": [
    "sentence = \"The quick brown rhino jumped over the extremely lazy fox\"\n",
    "\n",
    "# Write your code below.\n"
   ]
  },
  {
   "cell_type": "markdown",
   "metadata": {
    "deletable": false,
    "editable": false,
    "run_control": {
     "frozen": true
    }
   },
   "source": [
    "<div class=\"alert alert-warning\">\n",
    "    <font face=\"verdana\" size=\"2\" color=\"033971\"><strong>Expected Output:</strong><br />\n",
    "The 3<br/>\n",
    "quick 5<br/>\n",
    "brown 5<br/>\n",
    "rhino 5<br/>\n",
    "jumped 6<br/>\n",
    "over 4<br/>\n",
    "the 3<br/>\n",
    "extremely 9<br/>\n",
    "lazy 4<br/>\n",
    "fox 3<br/>\n",
    "Number of words is 10<br/>\n",
    "[3, 5, 5, 5, 6, 4, 3, 9, 4, 3]\n",
    "</div>"
   ]
  },
  {
   "cell_type": "markdown",
   "metadata": {
    "deletable": false,
    "editable": false,
    "run_control": {
     "frozen": true
    }
   },
   "source": [
    "### <font color=\"blue\">Problem 5</font>\n",
    "\n",
    "The string _addStr_ contains list of numbers separated by the plus sign. Write code that uses an accumulation pattern to take the sum of all numbers and assigns it to the variable _sumVal_.  Print the variable _sumVal_ prefixed by an appropriate label. \n",
    "\n",
    "You may use the _split_ function to split by \"+\" and _int_ function to cast to an integer."
   ]
  },
  {
   "cell_type": "code",
   "execution_count": null,
   "metadata": {},
   "outputs": [],
   "source": [
    "addStr = \"2+5+10+20+15+37\"\n",
    "\n",
    "# Write your code below.\n"
   ]
  },
  {
   "cell_type": "markdown",
   "metadata": {
    "deletable": false,
    "editable": false,
    "run_control": {
     "frozen": true
    }
   },
   "source": [
    "<div class=\"alert alert-warning\">\n",
    "    <font face=\"verdana\" size=\"2\" color=\"033971\"><strong>Expected Output:</strong><br />\n",
    "The total of all numbers is 89\n",
    "</div>"
   ]
  },
  {
   "cell_type": "markdown",
   "metadata": {},
   "source": [
    "### <font color=\"blue\">Problem 6</font>\n",
    "\n",
    "The string _weekTemps_ contains a comma-separated list of fahrenheit temperatures.  Write code that does the following:\n",
    "1.  Finds the minimum temperature in fahrenheit and stores the result in _minTempF_. \n",
    "2.  Computes the average temperature in fahrenheit and stores the result in _avgTempF_. \n",
    "3.  Convert the minimum and average temperature in fahrenheit to celsius and stores the results in _minTempC_ and _avgTempC_ respectively. \n",
    "Do not hard code your answer.  This means that your code must compute both the total of all temperatures and the number of temperatures in _weekTemps_.\n",
    "\n",
    "Do the following:\n",
    "1.  Split the string on ',' and store the resultant list in a variable\n",
    "2.  Iterate over that variable:\n",
    "    1. Apply a count pattern to count the number of temps.\n",
    "    2. Apply an accumulation pattern to total the temperature values.\n",
    "    3. if the current temperature is smaller than _minTempF_:\n",
    "       1. Replace the contents of _minTempF_ with the current temperature.\n",
    "3.  Compute the average temperature and store the result in _avgTempF_.\n",
    "4.  Print _avgTempF_ and _minTempF_ as shown in the expected output. Note, you will do some additional work to produce the expected output.\n",
    "5.  Convert _avgTempF_ to celsius and store the result in _avgTempC_.\n",
    "6.  Convert _minTempF_ to celsius and store the result in _minTempC_.\n",
    "7.  Print both variables as shown in the expected output.\n",
    "\n",
    "The average temperature is defined as the total of all temperatures divided by the number of temperatures. \n",
    "\n",
    "To convert from fahrenheit:\n",
    "        temperature in celsius = (temperature in fahrenheit - 32) *  5/9.\n",
    "\n",
    "You need to use one loop to solve this problem. You may use the _split_,  _float_, and _round_ functions.  "
   ]
  },
  {
   "cell_type": "code",
   "execution_count": null,
   "metadata": {},
   "outputs": [],
   "source": [
    "weekTemps = \"75.1,77.7,83.2,82.5,81.0,79.5,85.7\"\n",
    "\n",
    "# Write your code below.\n"
   ]
  },
  {
   "cell_type": "markdown",
   "metadata": {
    "deletable": false,
    "editable": false,
    "run_control": {
     "frozen": true
    }
   },
   "source": [
    "<div class=\"alert alert-warning\">\n",
    "    <font face=\"verdana\" size=\"2\" color=\"033971\"><strong>Expected Output:</strong><br />\n",
    "The average temperature is 80.67F 27.04C<br />\n",
    "The minimum temperature is 75.1F 23.94C\n",
    "</div>"
   ]
  },
  {
   "cell_type": "markdown",
   "metadata": {
    "deletable": false,
    "editable": false,
    "run_control": {
     "frozen": true
    }
   },
   "source": [
    "### <font color=\"blue\">Problem 7</font>\n",
    "\n",
    "The variable _rainfallMI_ is a string of comma-separated values.  Each value is the monthly average rainfall in inches for Michigan. Write code that does the following:\n",
    "1. Compute the number of months that have more than 3 inches of rainfall. Store the result in the variable _numRainyMonths_. \n",
    "2. Compute the total rainfall for all months.  Store the result in the variable _totRainfall_. \n",
    "3. Find the maximum rainfail and store it in _maxRain_.\n",
    "\n",
    "Do the following:\n",
    "1.  Split the string on ',' and store the resultant list in a variable\n",
    "2.  Iterate over that variable:\n",
    "    1. Apply an accumulation pattern to total the rainfallstoring the result in _totRainfall_.\n",
    "    2. if the rainfall for the month is more than 3 inches:\n",
    "       1.  Apply a count pattern storing the result in _numRainyMonths_.\n",
    "    3. If the rainfall is larger than _maxRain_:\n",
    "       1.  Replace the contents of _maxRain_ with the current rainfall.\n",
    "3.  Print the variables _numRainyMonths_, and _maxRain_ with the appropriate label as shown below."
   ]
  },
  {
   "cell_type": "code",
   "execution_count": null,
   "metadata": {},
   "outputs": [],
   "source": [
    "rainfallMI = \"1.65, 1.46, 2.05, 3.03, 3.35, 3.46, 2.83, 3.23, 3.5, 2.52, 2.8, 1.85\"\n",
    "\n",
    "# Write your code below.\n"
   ]
  },
  {
   "cell_type": "markdown",
   "metadata": {
    "deletable": false,
    "editable": false,
    "run_control": {
     "frozen": true
    }
   },
   "source": [
    "<div class=\"alert alert-warning\">\n",
    "    <font face=\"verdana\" size=\"2\" color=\"033971\"><strong>Expected Output:</strong><br />\n",
    "There are 5 months with more than 3 inches of rain<br />\n",
    "Total rainfall for all months is 31.73<br />\n",
    "The maximum rainfall is 3.5\n",
    "</div>"
   ]
  },
  {
   "cell_type": "markdown",
   "metadata": {
    "deletable": false,
    "editable": false,
    "run_control": {
     "frozen": true
    }
   },
   "source": [
    "### <font color=\"blue\">Problem 8</font>\n",
    "\n",
    "The variable _sentence_ stores a string of words. Write code that does the following:\n",
    "1. Compute the number of words that begin and end with the same letter including one-letter words. Store the result in the variable _sameLetterCount_.\n",
    "2. Compute that number of words that contain an \"f\" or a \"k\".  Store the result in the variable _fkCount_. \n",
    "\n",
    "Do the following:\n",
    "1. Split the sentence into words storing the result in a variable.\n",
    "2. Iterate over the variable:\n",
    "   1. If the first character of the word is equal to the last letter of the word:\n",
    "      1. Apply a count pattern using the variable _sameLetterCount_.\n",
    "   2. If the word contains an \"f\" or a \"k\":\n",
    "      1. Apply a count pattern using the variable _fkCount_.\n",
    "3. Print the variables _sameLetterCount_ and _fkCount_ as shown below. \n",
    "\n",
    "You may use the _split_ method,  the _in_ operator to test for the existence of an \"f\" or \"k\", the _or_ operator to join the logical expressions when testing for the existence of the letters. "
   ]
  },
  {
   "cell_type": "code",
   "execution_count": null,
   "metadata": {},
   "outputs": [],
   "source": [
    "sentence = \"students flock to the arb for a variety of outdoor activities such as jogging and picnicking\"\n",
    "\n",
    "# write your code below\n"
   ]
  },
  {
   "cell_type": "markdown",
   "metadata": {
    "deletable": false,
    "editable": false,
    "run_control": {
     "frozen": true
    }
   },
   "source": [
    "<div class=\"alert alert-warning\">\n",
    "    <font face=\"verdana\" size=\"2\" color=\"033971\"><strong>Expected Output:</strong><br />\n",
    "There are 2 words that begin and end with the same letter<br />\n",
    "There are 4 words that contain f or k\n",
    "</div>"
   ]
  },
  {
   "cell_type": "markdown",
   "metadata": {
    "deletable": false,
    "editable": false,
    "run_control": {
     "frozen": true
    }
   },
   "source": [
    "### <font color=\"blue\">Problem 9</font>\n",
    "\n",
    "Write code that does the following:\n",
    "1. Compute the number of words in the variable _sentence_ that contain either an \"p\" or an \"g\". Store the result in the variable _numPorG_.  \n",
    "2. Creates a string _strPorG_ composed of those words in _sentence_ that contain an \"p\" or \"g\". Each word in _strPorG_ must be separated by a comma.\n",
    "\n",
    "Print the variables _numPorG_ and _strPorG_ as shown below.\n",
    "\n",
    "Do not double-count words that contain both an p and an g. Use the _in_ operator to test for existence. "
   ]
  },
  {
   "cell_type": "code",
   "execution_count": null,
   "metadata": {},
   "outputs": [],
   "source": [
    "sentence = \"python is a high level general purpose programming language that can be applied to many different classes of problems\"\n",
    "\n",
    "# write your code below\n"
   ]
  },
  {
   "cell_type": "markdown",
   "metadata": {
    "deletable": false,
    "editable": false,
    "run_control": {
     "frozen": true
    }
   },
   "source": [
    "<div class=\"alert alert-warning\">\n",
    "    <font face=\"verdana\" size=\"2\" color=\"033971\"><strong>Expected Output:</strong><br />\n",
    "Number of words containing p or g is 8<br />\n",
    "Those words are python,high,general,purpose,programming,language,applied,problems\n",
    "        </div>"
   ]
  },
  {
   "cell_type": "markdown",
   "metadata": {
    "deletable": false,
    "editable": false,
    "run_control": {
     "frozen": true
    }
   },
   "source": [
    "### <font color=\"blue\">Problem 10</font>\n",
    "\n",
    "The cell below has two corresponding lists.  The list _rainFallMI_ has the average rainfall for a month.  Each element in the list _months_ corresponds to the value in the list _rainfallMI_. \n",
    "\n",
    "Write code that does the following by iterating over the list _months_:\n",
    "1. Displays the elements in the list _months_ and _rainfallMI_ as a two column table as shown below.\n",
    "2. Finds the month with the largest rainfall and stores the month name in the variable _maxMonth_ and the rainfall value in _maxRain_. \n",
    "3. Finds the month with the smallest rainfall and stores the month name in the variable _minMonth_ and the rainfall value in _minRain_. \n",
    "4. Total the rainfall for the year and store the result in _totRain_.\n",
    "5. Print the information as shown in expected output.\n",
    "\n",
    "The month must printed  left-justified and the rainfall right-justified.  You may use string formatting.\n",
    "\n",
    "Since you can only iterate over one sequence at a time, you need an alternate approach to index into the other sequence.  One way is to iterate over one list and index into to other.  You may solve this problem in any fashion you choose.  However, you must use only one for loop."
   ]
  },
  {
   "cell_type": "code",
   "execution_count": null,
   "metadata": {},
   "outputs": [],
   "source": [
    "rainfallMI = ['1.65', '1.46', '2.05', '3.03', '3.35', '3.46', '2.83', '3.23','3.5','2.52','2.8','1.85']\n",
    "months = ['Jan','Feb','Mar','Apr','May','Jun','Jul','Aug','Sep','Oct','Nov','Dec']\n",
    "\n",
    "# Write your code below.\n"
   ]
  },
  {
   "cell_type": "markdown",
   "metadata": {
    "deletable": false,
    "editable": false,
    "run_control": {
     "frozen": true
    }
   },
   "source": [
    "<div class=\"alert alert-warning\">\n",
    "    <font face=\"verdana\" size=\"2\" color=\"033971\"><strong>Expected Output:</strong><br />\n",
    "Mon Rainfall<br/>\n",
    "Jan 1.65<br/>\n",
    "Feb 1.46<br/>\n",
    "Mar 2.05<br/>\n",
    "Apr 3.03<br/>\n",
    "May 3.35<br/>\n",
    "Jun 3.46<br/>\n",
    "Jul 2.83<br/>\n",
    "Aug 3.23<br/>\n",
    "Sep 3.50<br/>\n",
    "Oct 2.52<br/>\n",
    "Nov 2.80<br/>\n",
    "Dec 1.85<br/>\n",
    "The month with the largest rainfall is Sep with a rainfall of 3.50<br/>\n",
    "The month with the lowest rainfall is Feb with a rainfall of 1.46<br/>\n",
    "The annual rainfall is 31.73<br/>\n",
    " </div>"
   ]
  },
  {
   "cell_type": "markdown",
   "metadata": {
    "deletable": false,
    "editable": false,
    "run_control": {
     "frozen": true
    }
   },
   "source": [
    "### <font color=\"blue\">Run the cells below to test your code</font>"
   ]
  },
  {
   "cell_type": "code",
   "execution_count": null,
   "metadata": {
    "deletable": false,
    "editable": false
   },
   "outputs": [],
   "source": [
    "import unittest\n",
    "\n",
    "class PS03_01 (unittest.TestCase):\n",
    "    def test_problem01(self):\n",
    "        self.assertEqual(cntChars, 8)\n",
    "class PS03_02 (unittest.TestCase):\n",
    "    def test_problem02(self):\n",
    "        self.assertEqual(cntList, 9)\n",
    "class PS03_03 (unittest.TestCase):\n",
    "    def test_problem03(self):\n",
    "        self.assertEqual(numChars, 57)\n",
    "        self.assertEqual(numVowels, 16)\n",
    "class PS03_04 (unittest.TestCase):\n",
    "    def test_problem04(self):\n",
    "        self.assertEqual(numWords, 10)\n",
    "        self.assertEqual(sum(wordLens), 47)\n",
    "class PS03_05 (unittest.TestCase):\n",
    "    def test_problem05(self):\n",
    "        self.assertEqual(sumVal, 89)\n",
    "class PS03_06 (unittest.TestCase):\n",
    "    def assertBetween(self, x, lo, hi):\n",
    "        if not (lo <= x <= hi):\n",
    "            raise AssertionError('%r not between %r and %r' % (x, lo, hi))    \n",
    "    def test_problem06(self):\n",
    "        self.assertBetween(avgTempF,80.0,82.0)\n",
    "        self.assertBetween(minTempF,74.0,76.0)   \n",
    "        self.assertBetween(avgTempC,26.0,28.0)\n",
    "        self.assertBetween(minTempC,22.0,24.0)         \n",
    "class PS03_07 (unittest.TestCase):\n",
    "    def test_problem07(self):\n",
    "        self.assertEqual(numRainyMonths, 5)\n",
    "        self.assertEqual(round(totRainfall), 32)\n",
    "        self.assertEqual(maxRain, 3.5)\n",
    "class PS03_08 (unittest.TestCase):\n",
    "    def test_problem08(self):\n",
    "        self.assertEqual(sameLetterCount, 2)\n",
    "        self.assertEqual(fkCount, 4)\n",
    "class PS03_09 (unittest.TestCase):\n",
    "    def test_problem09(self):\n",
    "        self.assertEqual(numPorG, 8)\n",
    "        self.assertEqual(len(strPorG.split(',')), 8)\n",
    "class PS03_10 (unittest.TestCase):\n",
    "    def test_problem10(self):\n",
    "        self.assertEqual(maxRain, 3.50)\n",
    "        self.assertEqual(maxMonth, 'Sep')\n",
    "        self.assertEqual(minRain, 1.46)\n",
    "        self.assertEqual(minMonth, 'Feb')\n",
    "        self.assertEqual(totRain, 31.73)"
   ]
  },
  {
   "cell_type": "code",
   "execution_count": null,
   "metadata": {
    "deletable": false,
    "editable": false
   },
   "outputs": [],
   "source": [
    "unittest.main(argv=['first-arg-is-ignored'], exit=False, verbosity=2)"
   ]
  },
  {
   "cell_type": "code",
   "execution_count": null,
   "metadata": {},
   "outputs": [],
   "source": []
  }
 ],
 "metadata": {
  "kernelspec": {
   "display_name": "Python 3 (ipykernel)",
   "language": "python",
   "name": "python3"
  },
  "language_info": {
   "codemirror_mode": {
    "name": "ipython",
    "version": 3
   },
   "file_extension": ".py",
   "mimetype": "text/x-python",
   "name": "python",
   "nbconvert_exporter": "python",
   "pygments_lexer": "ipython3",
   "version": "3.11.4"
  },
  "varInspector": {
   "cols": {
    "lenName": 16,
    "lenType": 16,
    "lenVar": 40
   },
   "kernels_config": {
    "python": {
     "delete_cmd_postfix": "",
     "delete_cmd_prefix": "del ",
     "library": "var_list.py",
     "varRefreshCmd": "print(var_dic_list())"
    },
    "r": {
     "delete_cmd_postfix": ") ",
     "delete_cmd_prefix": "rm(",
     "library": "var_list.r",
     "varRefreshCmd": "cat(var_dic_list()) "
    }
   },
   "types_to_exclude": [
    "module",
    "function",
    "builtin_function_or_method",
    "instance",
    "_Feature"
   ],
   "window_display": false
  }
 },
 "nbformat": 4,
 "nbformat_minor": 2
}
