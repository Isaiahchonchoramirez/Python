{
 "cells": [
  {
   "cell_type": "markdown",
   "metadata": {
    "deletable": false,
    "editable": false,
    "run_control": {
     "frozen": true
    }
   },
   "source": [
    "## <span style=\"color:blue\">Problem Set 12</span>"
   ]
  },
  {
   "cell_type": "raw",
   "metadata": {},
   "source": [
    "enter your name here"
   ]
  },
  {
   "cell_type": "markdown",
   "metadata": {},
   "source": [
    "### <font color=\"blue\">Overview</font>  \n",
    "These problems require recursive solutions.  No points will be give for solutions that are not recursive."
   ]
  },
  {
   "cell_type": "markdown",
   "metadata": {
    "deletable": false,
    "editable": false,
    "run_control": {
     "frozen": true
    }
   },
   "source": [
    "### <font color=\"blue\">Problem 1</font>\n",
    "Write a recursive function called _power_ that does exponentiation. The function accepts two arguments: _num_ and _exp_.  The function takes _num_ and raises to the power _exp_.  The solution does not require any python functions, and obviously should not use the python exponentiation operator."
   ]
  },
  {
   "cell_type": "code",
   "execution_count": null,
   "metadata": {},
   "outputs": [],
   "source": [
    "# write your function below\n",
    "\n",
    "\n",
    "# do not change the code below but you may add additional calls to the function\n",
    "print(\"2 to the 8th power is\",power(2,8))\n",
    "print(\"2 to the 15th power is\",power(2,15))"
   ]
  },
  {
   "cell_type": "markdown",
   "metadata": {
    "deletable": false,
    "editable": false,
    "run_control": {
     "frozen": true
    }
   },
   "source": [
    "<div class=\"alert alert-warning\">\n",
    "    <font face=\"verdana\" size=\"2\" color=\"033971\"><strong>Expected Output:</strong><br />\n",
    "2 to the 8th power is 256<br />\n",
    "2 to the 15th power is 32768</div>   "
   ]
  },
  {
   "cell_type": "markdown",
   "metadata": {
    "deletable": false,
    "editable": false,
    "run_control": {
     "frozen": true
    }
   },
   "source": [
    "### <font color=\"blue\">Problem 2</font>\n",
    "Write a recursive function called _reverseString_ that reverses a string passed as an argument. Do not use any python function to reverse the string.  The string must be reversed by your code.  The only python function required is len().  "
   ]
  },
  {
   "cell_type": "code",
   "execution_count": null,
   "metadata": {},
   "outputs": [],
   "source": [
    "# write your function below\n",
    "\n",
    "    \n",
    "# do not change the code below but you may add additional calls to the function\n",
    "string_to_reverse = \"the quick brown fox jumps over the lazy dog\"\n",
    "print(\"The original string:\",string_to_reverse)\n",
    "print(\"The reversed string:\",reverseString(string_to_reverse))\n",
    "print()\n",
    "string_to_reverse = \"able was I ere I saw elba\"\n",
    "print(\"The original string:\",string_to_reverse)\n",
    "print(\"The reversed string:\",reverseString(string_to_reverse))"
   ]
  },
  {
   "cell_type": "markdown",
   "metadata": {
    "deletable": false,
    "editable": false,
    "run_control": {
     "frozen": true
    }
   },
   "source": [
    "<div class=\"alert alert-warning\">\n",
    "    <font face=\"verdana\" size=\"2\" color=\"033971\"><strong>Expected Output:</strong><br />\n",
    "The original string: the quick brown fox jumps over the lazy dog<br />\n",
    "The reversed string: god yzal eht revo spmuj xof nworb kciuq eht<br />\n",
    "<br />\n",
    "The original string: able was I ere I saw elba<br />\n",
    "The reversed string: able was I ere I saw elba</div>   "
   ]
  },
  {
   "cell_type": "markdown",
   "metadata": {
    "deletable": false,
    "editable": false,
    "run_control": {
     "frozen": true
    }
   },
   "source": [
    "### <font color=\"blue\">Problem 3</font>\n",
    "Write a recursive function called _reverseList_ that reverses a list passed as an argument. Do not use any python function to reverse the list.  The list must be reversed by your code.  The only python function required is len().  "
   ]
  },
  {
   "cell_type": "code",
   "execution_count": 1,
   "metadata": {},
   "outputs": [
    {
     "name": "stdout",
     "output_type": "stream",
     "text": [
      "The original list: [1, 2, 3, 4, 5, 6, 7, 8, 9, 0]\n",
      "The reversed list: [0, 9, 8, 7, 6, 5, 4, 3, 2, 1]\n"
     ]
    }
   ],
   "source": [
    "# write your function below\n",
    "\n",
    "\n",
    "# do not change the code below but you may add additional calls to the function\n",
    "list_to_reverse = [1,2,3,4,5,6,7,8,9,0]\n",
    "print(\"The original list:\",list_to_reverse)\n",
    "print(\"The reversed list:\",reverseList(list_to_reverse))"
   ]
  },
  {
   "cell_type": "markdown",
   "metadata": {
    "deletable": false,
    "editable": false,
    "run_control": {
     "frozen": true
    }
   },
   "source": [
    "<div class=\"alert alert-warning\">\n",
    "    <font face=\"verdana\" size=\"2\" color=\"033971\"><strong>Expected Output:</strong><br />\n",
    "The original list: [1, 2, 3, 4, 5, 6, 7, 8, 9, 0]</br>\n",
    "The reversed list: [0, 9, 8, 7, 6, 5, 4, 3, 2, 1]</div>"
   ]
  },
  {
   "cell_type": "markdown",
   "metadata": {
    "deletable": false,
    "editable": false,
    "run_control": {
     "frozen": true
    }
   },
   "source": [
    "### <font color=\"blue\">Problem 4</font>\n",
    "Write a recursive function called _totalDigits_ that, given a number _n_ returns the sum of the digits of _n_."
   ]
  },
  {
   "cell_type": "code",
   "execution_count": null,
   "metadata": {},
   "outputs": [],
   "source": [
    "# write your function below\n",
    "\n",
    "    \n",
    "# do not change the code below but you may add additional calls to the function\n",
    "for m in [111,222,333,1076458]:\n",
    "    print(\"The total of the digits in\",m,\"is\",totalDigits(m))"
   ]
  },
  {
   "cell_type": "markdown",
   "metadata": {
    "deletable": false,
    "editable": false,
    "run_control": {
     "frozen": true
    }
   },
   "source": [
    "<div class=\"alert alert-warning\">\n",
    "    <font face=\"verdana\" size=\"2\" color=\"033971\"><strong>Expected Output:</strong><br />\n",
    "TThe total of the digits in 111 is 3<br/>\n",
    "The total of the digits in 222 is 6<br/>\n",
    "The total of the digits in 333 is 9<br/>\n",
    "The total of the digits in 1076458 is 31</span>  "
   ]
  },
  {
   "cell_type": "markdown",
   "metadata": {
    "deletable": false,
    "editable": false,
    "run_control": {
     "frozen": true
    }
   },
   "source": [
    "### <font color=\"blue\">Problem 5</font>\n",
    "Write a recursive function called _convertToDecimal_ that accepts a binary number (string type) and converts it to decimal. Assume a valid binary number is passed so there is not need for error checking.  Also since the binary number passed is a string, you will need to coerce each digit into an integer using the int() function.  This function must work for any binary number of any length, so do not hard code position values.  Position values must be calculated by the function.\n",
    "\n",
    "The value of the positions for binary numbers are:\n",
    "\n",
    "    2**n  2**(n-1) ... 2**3  2**2  2**1  2**0   where 2**0 is 1\n",
    "\n",
    "Determining the decimal value of a binary number:\n",
    "  1. For each digit, multiply the digit by the value of the position\n",
    "  2. Repeat step one for all digits in the binary number\n",
    "  3. Add all the results together\n",
    "  \n"
   ]
  },
  {
   "cell_type": "code",
   "execution_count": 2,
   "metadata": {},
   "outputs": [
    {
     "name": "stdout",
     "output_type": "stream",
     "text": [
      "The binary number 11111111 is 255 in decimal\n",
      "The binary number 10101010 is 170 in decimal\n",
      "The binary number 111 is 7 in decimal\n",
      "The binary number 1010111010 is 698 in decimal\n"
     ]
    }
   ],
   "source": [
    "# write your function below\n",
    "\n",
    "    \n",
    "# do not change the code below but you may add additional calls to the function\n",
    "for bin in ['11111111','10101010','111','1010111010']:\n",
    "    print(\"The binary number\",bin,\"is\",convertToDecimal(bin),\"in decimal\")"
   ]
  },
  {
   "cell_type": "markdown",
   "metadata": {
    "deletable": false,
    "editable": false,
    "run_control": {
     "frozen": true
    }
   },
   "source": [
    "<div class=\"alert alert-warning\">\n",
    "    <font face=\"verdana\" size=\"2\" color=\"033971\"><strong>Expected Output:</strong><br />\n",
    "The binary number 11111111 is 255 in decimal<br />\n",
    "The binary number 10101010 is 170 in decimal<br />\n",
    "The binary number 111 is 7 in decimal<br />\n",
    "The binary number 1010111010 is 698 in decimal<div>"
   ]
  }
 ],
 "metadata": {
  "kernelspec": {
   "display_name": "Python 3 (ipykernel)",
   "language": "python",
   "name": "python3"
  },
  "language_info": {
   "codemirror_mode": {
    "name": "ipython",
    "version": 3
   },
   "file_extension": ".py",
   "mimetype": "text/x-python",
   "name": "python",
   "nbconvert_exporter": "python",
   "pygments_lexer": "ipython3",
   "version": "3.12.5"
  }
 },
 "nbformat": 4,
 "nbformat_minor": 4
}
