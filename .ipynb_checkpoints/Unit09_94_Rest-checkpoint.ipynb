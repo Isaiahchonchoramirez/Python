{
 "cells": [
  {
   "cell_type": "code",
   "execution_count": null,
   "metadata": {},
   "outputs": [],
   "source": [
    "# use NASA Near Earth Object Web Service\n",
    "import requests\n",
    "import json\n",
    "\n",
    "url = ' https://api.nasa.gov/neo/rest/v1/feed'\n",
    "args = {'start_date':'2019-10-01', 'end_date':'2019-10-07', 'api_key':'DEMO_KEY'}\n",
    "\n",
    "try: \n",
    "    result = requests.get(url,params=args)\n",
    "    result.raise_for_status()\n",
    "except:\n",
    "    print('Error occurred')\n",
    "    \n",
    "print(len(result.text),'bytes returned from the NeoWS API')\n",
    "\n",
    "result_dict = json.loads(result.text)"
   ]
  },
  {
   "cell_type": "code",
   "execution_count": null,
   "metadata": {},
   "outputs": [],
   "source": [
    "for k,v in result_dict.items():  \n",
    "    print(k,type(v))"
   ]
  },
  {
   "cell_type": "code",
   "execution_count": null,
   "metadata": {},
   "outputs": [],
   "source": [
    "for k,v in result_dict['near_earth_objects'].items():  \n",
    "    print(k,type(v))"
   ]
  },
  {
   "cell_type": "code",
   "execution_count": null,
   "metadata": {},
   "outputs": [],
   "source": [
    "def parse_dict(indent,json_dict):\n",
    "    padding = indent\n",
    "    for key,value in json_dict.items():\n",
    "        if isinstance(value, dict):\n",
    "            space = ' '*padding\n",
    "            print(space,key)\n",
    "            padding += 3\n",
    "            parse_dict(padding,value)\n",
    "            padding -= 3\n",
    "        else: \n",
    "            space = ' '*padding\n",
    "            print (space,key,\":\",value)\n",
    "            \n",
    "for e in result_dict['near_earth_objects']['2019-10-07']:  \n",
    "    parse_dict(0,e)"
   ]
  },
  {
   "cell_type": "code",
   "execution_count": null,
   "metadata": {},
   "outputs": [],
   "source": [
    "v = result_dict['near_earth_objects']['2019-10-07'][0]['links']\n",
    "print('links:  ',v)\n",
    "\n",
    "v = result_dict['near_earth_objects']['2019-10-07'][0]['id']\n",
    "print('id:  ',v)\n",
    "\n",
    "v = result_dict['near_earth_objects']['2019-10-07'][0]['name']\n",
    "print('name:  ',v)\n",
    "\n",
    "v = result_dict['near_earth_objects']['2019-10-07'][0]['is_potentially_hazardous_asteroid']\n",
    "print('is_potentially_hazardous_asteroid:  ',v)\n",
    "\n",
    "v = result_dict['near_earth_objects']['2019-10-07'][0]['close_approach_data'][0]['close_approach_date']\n",
    "print('close approach date:  ',v)\n",
    "\n",
    "v = result_dict['near_earth_objects']['2019-10-07'][0]['close_approach_data'][0]['miss_distance']\n",
    "print('miss distance:  ',v)\n"
   ]
  }
 ],
 "metadata": {
  "kernelspec": {
   "display_name": "Python 3",
   "language": "python",
   "name": "python3"
  },
  "language_info": {
   "codemirror_mode": {
    "name": "ipython",
    "version": 3
   },
   "file_extension": ".py",
   "mimetype": "text/x-python",
   "name": "python",
   "nbconvert_exporter": "python",
   "pygments_lexer": "ipython3",
   "version": "3.7.3"
  }
 },
 "nbformat": 4,
 "nbformat_minor": 2
}
