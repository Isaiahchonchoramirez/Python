{
 "cells": [
  {
   "cell_type": "markdown",
   "metadata": {
    "deletable": false,
    "editable": false,
    "run_control": {
     "frozen": true
    }
   },
   "source": [
    "## <span style=\"color:blue\">Problem Set 4</span>"
   ]
  },
  {
   "cell_type": "raw",
   "metadata": {},
   "source": [
    "Enter your name here"
   ]
  },
  {
   "cell_type": "markdown",
   "metadata": {
    "deletable": false,
    "editable": false,
    "run_control": {
     "frozen": true
    }
   },
   "source": [
    "### <font color='blue'>Note:</font>\n",
    "1. The variables in the first cell are used in later problems.  Do not duplicate the code in later cells or attempt to write similar code.\n",
    "\n",
    "2. Use the variable names defined in the instructions for each problem.  Failure to do so will result in a loss of points.\n",
    "\n",
    "3. You need to use code to arrive at a solution. Hard coding a solution results in 0 points for the problem.\n",
    "\n",
    "4. Use only syntax covered in the Units so far. Using any other syntax results in 0 points for the problem.\n",
    "\n",
    "Some problems below require text and csv files.  Files used in these problems must be co-resident with your notebook, otherwise a \"file not found\" error is thrown.  This means that your notebook file (.ipynb) and the text or csv file are visible in your home page.\n",
    "\n",
    "### <font color=\"blue\">Run the cell below first</font>\n",
    "Before starting the assignment, run the cell below.  By running this cell, the variables and functions in that cell are loaded into the address space of your notebook, which makes them available to use in your code."
   ]
  },
  {
   "cell_type": "code",
   "execution_count": null,
   "metadata": {
    "deletable": false,
    "editable": false
   },
   "outputs": [],
   "source": [
    "umSchools = {\n",
    "  \"A. Alfred Taubman College of Architecture & Urban Planning\": 1906,\n",
    "  \"College of Engineering\": 1854,\n",
    "  \"College of Literature, Science, and the Arts\": 1841,\n",
    "  \"Gerald R. Ford School of Public Policy\": 1914,\n",
    "  \"Horace H. Rackham School of Graduate Studies\": 1912,\n",
    "  \"Penny W. Stamps School of Art & Design\": 1974,\n",
    "  \"School of Dentistry\": 1875,\n",
    "  \"School of Education\": 1921,\n",
    "  \"School of Information\": 1996,\n",
    "  \"School of Kinesiology\": 1984,\n",
    "  \"School of Law\": 1859,\n",
    "  \"School of Medicine\": 1850,\n",
    "  \"School of Music, Theatre & Dance\": 1880,\n",
    "  \"School of Natural Resources & Environment\": 1927,\n",
    "  \"School of Nursing\": 1893,\n",
    "  \"School of Pharmacy\": 1876,\n",
    "  \"School of Public Health\": 1941,\n",
    "  \"School of Social Work\": 1951,\n",
    "  \"Stephen M. Ross School of Business\": 1924\n",
    "}\n",
    "\n",
    "janTemps = \"\"\"2016,   6, 51\n",
    "        2015,  -3, 41\n",
    "        2014, -14, 43\n",
    "        2013,  -3, 60\n",
    "        2012,   2, 55\n",
    "        2011,   1, 52\n",
    "        2010,   3, 47\n",
    "        2009, -10, 39\n",
    "        2008,   3, 62\n",
    "        2007,   5, 50\n",
    "        2006,  18, 53\n",
    "        2005,  -3, 56\n",
    "        2004,  -6, 55\n",
    "        2003,  -5, 47\n",
    "        2002,  11, 55\n",
    "        2001,   1, 43\n",
    "        2000,  -2, 56\"\"\""
   ]
  },
  {
   "cell_type": "markdown",
   "metadata": {
    "deletable": false,
    "editable": false,
    "run_control": {
     "frozen": true
    }
   },
   "source": [
    " ### <font color=\"blue\">Problem 1</font>\n",
    "The dictionary _courses_ is a hypothetical schedule for a semester.  The key is the course code and the value is the number of credits. Print the course code along with the number of credits as shown in expected out. Also, use an accumulation pattern to find the total number of credits taken this semester and assign it to the variable _credits_. Print the variable _credits_ as shown below.\n",
    "\n",
    "Do the following:\n",
    "1. Iterate over courses:\n",
    "   1.  Print the course code and credits.\n",
    "   2.  Accumulate the credits in the variable _credits_.\n",
    "2. Print the total credits"
   ]
  },
  {
   "cell_type": "code",
   "execution_count": null,
   "metadata": {},
   "outputs": [],
   "source": [
    "courses = {'CPS141':4, 'ENG101':3, 'CIS100':3, 'CNT206':4, 'MTH160':4}\n",
    "\n",
    "# write your code below\n",
    "\n",
    "credits = 0\n",
    "\n",
    "for course_code, course_credits in courses.items():\n",
    "    print(f\"{course_code} {course_credits}\")\n",
    "    \n",
    "    credits += course_credits\n",
    "print(f\"Total credits this semester {credits}\")\n"
   ]
  },
  {
   "cell_type": "markdown",
   "metadata": {
    "deletable": false,
    "editable": false,
    "run_control": {
     "frozen": true
    }
   },
   "source": [
    "<div class=\"alert alert-warning\">\n",
    "    <font face=\"verdana\" size=\"2\" color=\"033971\"><strong>Expected Output:</strong><br />  \n",
    "CPS141 4<br/>\n",
    "ENG101 3<br/>\n",
    "CIS100 3<br/>\n",
    "CNT206 4<br/>\n",
    "MTH160 4<br/>\n",
    "Total credits this semester 18</div>"
   ]
  },
  {
   "cell_type": "markdown",
   "metadata": {
    "deletable": false,
    "editable": false,
    "run_control": {
     "frozen": true
    }
   },
   "source": [
    "### <font color=\"blue\">Problem 2</font>\n",
    "The dictionary _umSchools_ maps the names of schools at Michigan to the year they were founded. Write code that creates a dictionary called _oldSchools_ that has the key/value pairs from _umSchools_ that correspond to the schools listed in the list _schools_.\n",
    "\n",
    "Do the following:\n",
    "1. Iterate over schools:\n",
    "   1. Create a new dictionary using the current school as the key and the corresponding value from umSchools\n",
    "2. Print _oldSchools_"
   ]
  },
  {
   "cell_type": "code",
   "execution_count": null,
   "metadata": {},
   "outputs": [],
   "source": [
    "schools = [ \"College of Engineering\",\"School of Nursing\",\"School of Dentistry\"]\n",
    "# write your code below\n"
   ]
  },
  {
   "cell_type": "markdown",
   "metadata": {
    "deletable": false,
    "editable": false,
    "run_control": {
     "frozen": true
    }
   },
   "source": [
    "<div class=\"alert alert-warning\">\n",
    "    <font face=\"verdana\" size=\"2\" color=\"033971\"><strong>Expected Output:</strong><br />\n",
    "{'College of Engineering': 1854, 'School of Nursing': 1893, 'School of Dentistry': 1875}</div>"
   ]
  },
  {
   "cell_type": "markdown",
   "metadata": {
    "deletable": false,
    "editable": false,
    "run_control": {
     "frozen": true
    }
   },
   "source": [
    "### <font color=\"blue\">Problem 3</font>\n",
    "Using the _umSchools_ dictionary defined in the first cell, write code to add the name of every school that was founded in the 20th century (after 1900) into a list _newerSchools_. Print the list *newerSchools* as shown below."
   ]
  },
  {
   "cell_type": "code",
   "execution_count": null,
   "metadata": {},
   "outputs": [],
   "source": []
  },
  {
   "cell_type": "markdown",
   "metadata": {
    "deletable": false,
    "editable": false,
    "run_control": {
     "frozen": true
    }
   },
   "source": [
    "<div class=\"alert alert-warning\">\n",
    "    <font face=\"verdana\" size=\"2\" color=\"033971\">\n",
    "The required output is shown below but only the first three schools are shown to conserve space.  There are a total of 11 schools that meet this criterion.  The output list must show all 11 schools<br/>\n",
    "    <strong>Expected Output:</strong><br />\n",
    "A. Alfred Taubman College of Architecture & Urban Planning was founded in the 20th century.<br />\n",
    "Gerald R. Ford School of Public Policy was founded in the 20th century.<br />\n",
    "Horace H. Rackham School of Graduate Studies was founded in the 20th century</div>"
   ]
  },
  {
   "cell_type": "markdown",
   "metadata": {
    "deletable": false,
    "editable": false,
    "run_control": {
     "frozen": true
    }
   },
   "source": [
    "### <font color=\"blue\">Problem 4</font>\n",
    "Given the string _paragraph_ below, write code to determine the most common word in the string and assign it to the variable _commonWord_, assign the frequency to _maxWordCount_.  The is a case insensitive frequency which means that case must be disregarded.\n",
    "\n",
    "There are two parts:\n",
    "1. The first part requires a loop that builds a dictionary of words and their frequency.\n",
    "2. The second part requires a max accumulation pattern to find the word with the largest count.\n",
    "\n",
    "A) Do the following to build the frequency dictionary:\n",
    "1. Split the paragraph into words and store in a variable.\n",
    "2. Initialize an empty dictionary\n",
    "3. Iterate over the variable:\n",
    "   1. You need to remove punctuation from the word.  \n",
    "      If the last character in the word is a \".\", \",\", or a \";\":\n",
    "         1. Remove the last character in the word\n",
    "   2. Convert the word to lowercase.\n",
    "   3. If the word is in the dictionary:\n",
    "         1. Increment the value associated with the word.  \n",
    "   4. Otherwise:\n",
    "         1. Initialize a new key using the word and assign 1 to the value\n",
    "\n",
    "B) Determine the word with the largest frequency:\n",
    "1. Iterate over the keys dictionary created in part A.\n",
    "   1. if the value associated with current key is greater than _maxWordCount_:\n",
    "      1. Store the current key in _commonWord_.\n",
    "      2. Store the value of the current key in _maxWordCount_.\n",
    "\n",
    "C) Print\n",
    "1. Print _commonWord_ and _maxWordCount_ as shown below. \n",
    "\n",
    "Punctuation in the sentence must be removed as your code processes the word. You will also need to convert the word to lowercase.  You may use the _split_, the _in_ operator, and the _lower_ function."
   ]
  },
  {
   "cell_type": "code",
   "execution_count": null,
   "metadata": {},
   "outputs": [],
   "source": [
    "paragraph = \"\"\"\n",
    "He was getting  old and paunchy and his hair was falling fast,\n",
    "And he sat around the Legion, telling stories of the past.\n",
    "Of a war that he had fought in and the deeds that he had done,\n",
    "In his exploits with his buddies; they were heroes, every one.\n",
    "\"\"\"\n",
    "# write your code below\n"
   ]
  },
  {
   "cell_type": "markdown",
   "metadata": {
    "deletable": false,
    "editable": false,
    "run_control": {
     "frozen": true
    },
    "slideshow": {
     "slide_type": ""
    },
    "tags": []
   },
   "source": [
    "<div class=\"alert alert-warning\">\n",
    "    <font face=\"verdana\" size=\"2\" color=\"033971\"><strong>Expected Output:</strong><br />\n",
    "he is the most common word with 4 occurences</div>"
   ]
  },
  {
   "cell_type": "markdown",
   "metadata": {
    "deletable": false,
    "editable": false,
    "run_control": {
     "frozen": true
    }
   },
   "source": [
    "### <font color=\"blue\">Problem 5</font>\n",
    "Given the string _poem_ below, write code to determine the most common letter in the string and assign it to the variable _mostCommon_.  Also, assign the frequency of the most common letter to the variable _maxLetterCount_.  This is a case insensitive frequency which means lowercase and uppercase letters represent a single letter.\n",
    "\n",
    "This problem is almost identical to problem 4 with the exception that you iterate over a string.  You should be able to make minor modifications to the code from problem 4 to achieve a solution.  Note, you need to skip spaces and punctuation.\n",
    "\n",
    "Print _mostCommon_ and _maxLetterCount_ as shown below."
   ]
  },
  {
   "cell_type": "code",
   "execution_count": null,
   "metadata": {},
   "outputs": [],
   "source": [
    "# A poem by Robert Frost\n",
    "poem = \"\"\"\n",
    "Whose woods these are I think I know.\n",
    "His house is in the village though;\n",
    "He will not see me stopping here\n",
    "To watch his woods fill up with snow.\n",
    "My little horse must think it queer\n",
    "To stop without a farmhouse near\n",
    "Between the woods and frozen lake\n",
    "The darkest evening of the year.\n",
    "He gives his harness bells a shake\n",
    "To ask if there is some mistake.\n",
    "The only other sound’s the sweep\n",
    "Of easy wind and downy flake.\n",
    "The woods are lovely, dark and deep,\n",
    "But I have promises to keep,\n",
    "And miles to go before I sleep,\n",
    "And miles to go before I sleep.\n",
    "\"\"\"\n",
    "# write your code below\n"
   ]
  },
  {
   "cell_type": "markdown",
   "metadata": {
    "deletable": false,
    "editable": false,
    "run_control": {
     "frozen": true
    }
   },
   "source": [
    "<div class=\"alert alert-warning\">\n",
    "    <font face=\"verdana\" size=\"2\" color=\"033971\"><strong>Expected Output:</strong><br />\n",
    "e is the most common letter with 66 occurances</div>"
   ]
  },
  {
   "cell_type": "markdown",
   "metadata": {
    "deletable": false,
    "editable": false,
    "run_control": {
     "frozen": true
    }
   },
   "source": [
    "### <font color=\"blue\">Problem 6</font>\n",
    "Write code that creates the dictionary _vowelFrequency_ where the keys are the five vowels and the values represent their frequency in the string _sentence_. Using the _vowelFrequency_ dictionary and a max accumulation pattern determine the most common vowel and assign the result to the variable _commonVowel_.  Print the variable _commonVowel_ and the _vowelFrequency_ dictionary as shown below. \n",
    "\n",
    "The problem is similar to the previous problem.  The exception is that you need to select only vowels in the string sentence."
   ]
  },
  {
   "cell_type": "code",
   "execution_count": null,
   "metadata": {},
   "outputs": [],
   "source": [
    "sentence = \"singing in the rain and playing in the rain are two entirely different situations but both can be good fun\"\n",
    "vowels = ['a','e','i','o','u']\n",
    "# write your code below\n"
   ]
  },
  {
   "cell_type": "markdown",
   "metadata": {
    "deletable": false,
    "editable": false,
    "run_control": {
     "frozen": true
    }
   },
   "source": [
    "<div class=\"alert alert-warning\">\n",
    "    <font face=\"verdana\" size=\"2\" color=\"033971\"><strong>Expected Output:</strong><br /> \n",
    "{'i': 11, 'e': 8, 'a': 7, 'o': 5, 'u': 3}<br />\n",
    "The most common vowel is i</div>"
   ]
  },
  {
   "cell_type": "markdown",
   "metadata": {
    "deletable": false,
    "editable": false,
    "run_control": {
     "frozen": true
    }
   },
   "source": [
    "### <font color=\"blue\">Problem 7</font>\n",
    "The string _janTemps_ contains January temperature information for Ann Arbor for the years 2015 through 2000. This string is formatted so that it consists of multiple lines.  Each line is composed of three “columns” separated by commas as shown below. \n",
    "1. Year.\n",
    "2. Lowest temperature.\n",
    "3. Highest temperature.\n",
    "\n",
    "Write code that creates two dictionaries: _janLows_, which maps the year to the lowest temperature, and _janHighs_, which maps the year to the highest temperature. The key for each dictionary is the year, converted to an integer, and the value is the temperature, converted to an integer. \n",
    "\n",
    "Each line in the string is terminated by a new-line character.  You must use .split('\\n') to split the lines of _janTemps_ into a list. This results in a list of strings where each string holds the three columns.  As you iterate over that list, split a given line using a \",\" into a list containing the three column values. Use int() to cast the year, low temperature, and high temperature to integers.\n",
    "\n",
    "Print the variables _janLows_ and _janHighs_."
   ]
  },
  {
   "cell_type": "code",
   "execution_count": null,
   "metadata": {},
   "outputs": [],
   "source": []
  },
  {
   "cell_type": "markdown",
   "metadata": {
    "deletable": false,
    "editable": false,
    "run_control": {
     "frozen": true
    }
   },
   "source": [
    "<div class=\"alert alert-warning\">\n",
    "    <font face=\"verdana\" size=\"2\" color=\"033971\"><strong>Expected Output:</strong><br />\n",
    "January low temperatures:<br />\n",
    "{2016: 6, 2015: -3, 2014: -14, 2013: -3, 2012: 2, 2011: 1, 2010: 3, 2009: -10, 2008: 3, 2007: 5, 2006: 18, 2005: -3, 2004: -6, 2003: -5, 2002: 11, 2001: 1, 2000: -2}<br /><br />\n",
    "January high temperatures:<br />\n",
    "{2016: 51, 2015: 41, 2014: 43, 2013: 60, 2012: 55, 2011: 52, 2010: 47, 2009: 39, 2008: 62, 2007: 50, 2006: 53, 2005: 56, 2004: 55, 2003: 47, 2002: 55, 2001: 43, 2000: 56}</div>"
   ]
  },
  {
   "cell_type": "markdown",
   "metadata": {
    "deletable": false,
    "editable": false,
    "run_control": {
     "frozen": true
    }
   },
   "source": [
    "### <font color=\"blue\">Problem 8</font>\n",
    "Again using the string _janTemps_, write code that will determine which year had the largest difference between the lowest and highest temperature. Store the year, as an integer, in the variable  _maxTempDiffYear_ and temperature difference in the variable _maxTempDiff_.  \n",
    "\n",
    "You need use much of the code from the above problem to parse each line in janTemps into the three values: year, lowest temperature, and the highest temperature.  Write additional code that uses a max accumulation pattern to calculate the largest temperature difference and the year when that difference occured.  Do not use the max function.\n",
    "\n",
    "Print _maxTempDiffYear_  and _maxTempDiff_ as shown below."
   ]
  },
  {
   "cell_type": "code",
   "execution_count": null,
   "metadata": {},
   "outputs": [],
   "source": []
  },
  {
   "cell_type": "markdown",
   "metadata": {
    "deletable": false,
    "editable": false,
    "run_control": {
     "frozen": true
    }
   },
   "source": [
    "<div class=\"alert alert-warning\">\n",
    "    <font face=\"verdana\" size=\"2\" color=\"033971\"><strong>Expected Output:</strong><br />\n",
    "In January of 2013 the difference between high and low temperatures was 63</div>"
   ]
  },
  {
   "cell_type": "markdown",
   "metadata": {
    "deletable": false,
    "editable": false,
    "run_control": {
     "frozen": true
    }
   },
   "source": [
    "### <font color=\"blue\">Problem 9</font>\n",
    "The text file _Unit04_wnvhumancases.txt__ contains data on West Nile virus infections in the United States from 2006 through 2018. Each record (line) in the file has four columns(values) separated by a comma. Each column is described below.\n",
    "\n",
    "    Column 1:  Year (reported)\n",
    "    Column 2:  Week (week reported)\n",
    "    Column 3:  County\n",
    "    Column 4:  Cases (number of cases reported)\n",
    "\n",
    "Process the file and use an accumulation pattern to provide a count of the number of records(lines) and total of the number of cases.  The count of lines in the file must be stored in _numRecs_ and the total number of cases in the variable _numCases_.  Make sure you close the file after processing the data.\n",
    "\n",
    "Hint:  Since this is a text file each line is a string. You will need to split the line into a list of values and convert those values to integer .\n",
    "\n",
    "Print the variables _numRecs_  and _numCases_ as shown below."
   ]
  },
  {
   "cell_type": "code",
   "execution_count": null,
   "metadata": {},
   "outputs": [],
   "source": []
  },
  {
   "cell_type": "markdown",
   "metadata": {
    "deletable": false,
    "editable": false,
    "run_control": {
     "frozen": true
    }
   },
   "source": [
    "<div class=\"alert alert-warning\">\n",
    "    <font face=\"verdana\" size=\"2\" color=\"033971\"><strong>Expected Output:</strong><br />\n",
    "Total number of records: 1789<br />\n",
    "Total number of cases: 4993</div>"
   ]
  },
  {
   "cell_type": "markdown",
   "metadata": {
    "deletable": false,
    "editable": false,
    "run_control": {
     "frozen": true
    }
   },
   "source": [
    "### <font color=\"blue\">Problem 10</font>\n",
    "The csv file _Unit04_wnvhumancases.csv_ is identical to the text file used in the previous proble, with the exception that it contains a header line and all fields are delimited by double-quotes.  The column names are shown below.\n",
    "\n",
    "    Column 1:  Year (reported)\n",
    "    Column 2:  Week (week reported)\n",
    "    Column 3:  County\n",
    "    Column 4:  Cases (number of cases reported)\n",
    "\n",
    "You must use csv module to process the file and use an accumulation pattern to provide a count of the number of records in the file in the variable _numRows_ and the total number of incidents, i.e., a total of Positive Cases, in the variable _numIncidents_.  \n",
    "\n",
    "You also need to identify the county with the highest number of incidents in the variable _maxCounty_, the year that the highest number of incidents occurred  in the variable _maxCountyYear_, and the number of incidents in that county in _maxCountyIncidents_.\n",
    "\n",
    "Do the same as the above but for the minimum,  Store the results in _minCounty_, _minCountyYear_, and _minCountyIncidents_. \n",
    "\n",
    "Print the information as shown below."
   ]
  },
  {
   "cell_type": "code",
   "execution_count": null,
   "metadata": {},
   "outputs": [],
   "source": [
    "import csv\n",
    "\n"
   ]
  },
  {
   "cell_type": "markdown",
   "metadata": {
    "deletable": false,
    "editable": false,
    "run_control": {
     "frozen": true
    }
   },
   "source": [
    "<div class=\"alert alert-warning\">\n",
    "    <font face=\"verdana\" size=\"2\" color=\"033971\"><strong>Expected Output:</strong><br />\n",
    "Total cases:              1789<br />\n",
    "Total incidents:          4993<br />\n",
    "The county with the largest number of cases is Los Angeles, with 40 incidents reported in the year 2017<br />\n",
    "The county with the smallest number of cases is Alameda, with 1 incidents reported in the year 2006</div>"
   ]
  },
  {
   "cell_type": "markdown",
   "metadata": {
    "deletable": false,
    "editable": false,
    "run_control": {
     "frozen": true
    }
   },
   "source": [
    "### <font color=\"blue\">Run the cells below to test your code</font>"
   ]
  },
  {
   "cell_type": "code",
   "execution_count": null,
   "metadata": {
    "deletable": false,
    "editable": false
   },
   "outputs": [],
   "source": [
    "import unittest\n",
    "\n",
    "class PS04_01 (unittest.TestCase):\n",
    "    def test_problem01(self):\n",
    "        self.assertEqual(credits, 18)\n",
    "class PS04_02 (unittest.TestCase):\n",
    "    def test_problem02(self):\n",
    "        self.assertEqual(oldSchools, {'College of Engineering': 1854, 'School of Nursing': 1893, 'School of Dentistry': 1875})\n",
    "class PS04_03 (unittest.TestCase):\n",
    "    def test_problem03(self):\n",
    "        self.assertTrue(type(newerSchools) is list) \n",
    "        self.assertEqual(len(newerSchools), 11)\n",
    "class PS04_04 (unittest.TestCase):\n",
    "    def test_problem04(self):\n",
    "        self.assertEqual(commonWord, 'he')\n",
    "        self.assertEqual(maxWordCount, 4)\n",
    "class PS04_05 (unittest.TestCase):\n",
    "    def test_problem05(self):\n",
    "        self.assertEqual(mostCommon, 'e')\n",
    "        self.assertEqual(maxLetterCount, 66)        \n",
    "class PS04_06 (unittest.TestCase):\n",
    "    def test_problem06(self):\n",
    "        self.assertEqual(commonVowel, 'i')\n",
    "        self.assertEqual(vowelFrequency['i'], 11)\n",
    "        self.assertEqual(vowelFrequency,{'i': 11, 'e': 8, 'a': 7, 'o': 5, 'u': 3})\n",
    "class PS04_07 (unittest.TestCase):\n",
    "    def test_problem07(self):\n",
    "        self.assertTrue(type(janLows) is dict) \n",
    "        self.assertTrue(type(janHighs) is dict) \n",
    "        self.assertEqual(janLows[2016], 6)\n",
    "        self.assertEqual(janHighs[2016], 51)\n",
    "class PS04_08 (unittest.TestCase):\n",
    "    def test_problem08(self):\n",
    "        self.assertEqual(maxTempDiffYear, 2013)\n",
    "        self.assertEqual(maxTempDiff, 63)\n",
    "class PS04_09 (unittest.TestCase):\n",
    "    def test_problem09(self):\n",
    "        self.assertEqual(numRecs, 1789)\n",
    "        self.assertEqual(numCases, 4993)\n",
    "class PS04_10 (unittest.TestCase):\n",
    "    def test_problem10(self):\n",
    "        self.assertEqual(numRows, 1789)\n",
    "        self.assertEqual(numIncidents, 4993)\n",
    "        self.assertEqual(maxCounty, 'Los Angeles')\n",
    "        self.assertEqual(maxCountyIncidents, 40)\n",
    "        self.assertEqual(maxCountyYear, 2017)     "
   ]
  },
  {
   "cell_type": "code",
   "execution_count": null,
   "metadata": {
    "deletable": false,
    "editable": false
   },
   "outputs": [],
   "source": [
    "unittest.main(argv=['first-arg-is-ignored'], exit=False, verbosity=2)"
   ]
  },
  {
   "cell_type": "code",
   "execution_count": null,
   "metadata": {},
   "outputs": [],
   "source": []
  }
 ],
 "metadata": {
  "kernelspec": {
   "display_name": "Python 3 (ipykernel)",
   "language": "python",
   "name": "python3"
  },
  "language_info": {
   "codemirror_mode": {
    "name": "ipython",
    "version": 3
   },
   "file_extension": ".py",
   "mimetype": "text/x-python",
   "name": "python",
   "nbconvert_exporter": "python",
   "pygments_lexer": "ipython3",
   "version": "3.12.5"
  },
  "varInspector": {
   "cols": {
    "lenName": 16,
    "lenType": 16,
    "lenVar": 40
   },
   "kernels_config": {
    "python": {
     "delete_cmd_postfix": "",
     "delete_cmd_prefix": "del ",
     "library": "var_list.py",
     "varRefreshCmd": "print(var_dic_list())"
    },
    "r": {
     "delete_cmd_postfix": ") ",
     "delete_cmd_prefix": "rm(",
     "library": "var_list.r",
     "varRefreshCmd": "cat(var_dic_list()) "
    }
   },
   "types_to_exclude": [
    "module",
    "function",
    "builtin_function_or_method",
    "instance",
    "_Feature"
   ],
   "window_display": false
  }
 },
 "nbformat": 4,
 "nbformat_minor": 4
}
