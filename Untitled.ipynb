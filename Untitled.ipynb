{
 "cells": [
  {
   "cell_type": "code",
   "execution_count": 4,
   "id": "2c6db60e-70e5-45e8-8737-70c2c6e712f3",
   "metadata": {},
   "outputs": [
    {
     "name": "stdout",
     "output_type": "stream",
     "text": [
      "The maximum value is 85.\n"
     ]
    }
   ],
   "source": [
    "nums = [10, 5, 17, 34, 76, 85]\n",
    "\n",
    "max_value = nums[0]\n",
    "\n",
    "for num in nums:\n",
    "    if num > max_value:\n",
    "        max_value = num\n",
    "\n",
    "print(f\"The maximum value is {max_value}.\")\n",
    "\n"
   ]
  },
  {
   "cell_type": "code",
   "execution_count": null,
   "id": "ce093c9e-8548-4b3d-9418-031032fe0a27",
   "metadata": {},
   "outputs": [],
   "source": []
  }
 ],
 "metadata": {
  "kernelspec": {
   "display_name": "Python 3 (ipykernel)",
   "language": "python",
   "name": "python3"
  },
  "language_info": {
   "codemirror_mode": {
    "name": "ipython",
    "version": 3
   },
   "file_extension": ".py",
   "mimetype": "text/x-python",
   "name": "python",
   "nbconvert_exporter": "python",
   "pygments_lexer": "ipython3",
   "version": "3.12.5"
  }
 },
 "nbformat": 4,
 "nbformat_minor": 5
}
