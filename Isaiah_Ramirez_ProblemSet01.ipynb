{
 "cells": [
  {
   "cell_type": "markdown",
   "metadata": {
    "deletable": false,
    "editable": false,
    "run_control": {
     "frozen": true
    }
   },
   "source": [
    "# <span style=\"color:blue\">Problem Set 1<span>"
   ]
  },
  {
   "cell_type": "raw",
   "metadata": {},
   "source": [
    "Isaiah Ramirez"
   ]
  },
  {
   "cell_type": "markdown",
   "metadata": {
    "deletable": false,
    "editable": false,
    "run_control": {
     "frozen": true
    }
   },
   "source": [
    "### <font color='blue'>Note:</font>\n",
    "1. The functions in the first cell are used in later problems.  Do not duplicate the code in later cells or attempt to write similar functions.\n",
    "\n",
    "2. Use the variable names defined in the instructions for each problem.  Failure to do so will result in a loss of points.\n",
    "\n",
    "3. You need to use code to arrive at a solution. Hard coding a solution results in 0 points for the problem.\n",
    "\n",
    "4. Use only syntax covered in the Units so far. Using any other syntax results in 0 points for the problem.\n",
    "\n",
    "### <font color=\"blue\">Run the cell below first</font>\n",
    "Before starting the assignment, run the cell below.  By running this cell, the functions in that cell are loaded into the address space of your notebook, which makes them available to use in your code."
   ]
  },
  {
   "cell_type": "code",
   "execution_count": 2,
   "metadata": {
    "deletable": false,
    "editable": false
   },
   "outputs": [],
   "source": [
    "def sqr(num):\n",
    "    import math\n",
    "    n = math.sqrt(num)\n",
    "    return n\n",
    "\n",
    "def greeting(st):\n",
    "    st = str(st) # just in case\n",
    "    return \"Hello, \" + st\n",
    "\n",
    "def randomDigit():\n",
    "    import random\n",
    "    return random.choice([0,1,2,3,4,5,6,7,8,9])\n",
    "\n",
    "def addLengths(str1, str2):\n",
    "    return len(str1) + len(str2)"
   ]
  },
  {
   "cell_type": "markdown",
   "metadata": {
    "deletable": false,
    "editable": false,
    "run_control": {
     "frozen": true
    }
   },
   "source": [
    "### <font color=\"blue\">Problem 1</font>\n",
    "\n",
    "In the cell below write code that does the following:\n",
    "\n",
    "Problem A:\n",
    "1. Print \"Output for problem A:\" \n",
    "2. Assign the value 3.145 to the variable _p_.\n",
    "3. Print the data type of _p_ preceded by the message \"The type of p is\".\n",
    "4. Write an assignment statement that multiplies _p_ by 2 and assigns the result back to _p_.\n",
    "5. Print the value of _p_.\n",
    "\n",
    "Problem B:\n",
    "1. Print \"Output for problem B:\" \n",
    "2. Write code to assign the number of characters in the string _rv_ to the variable _numChars_.\n",
    "3. Print _numChars_ preceded by the message \"The number of chars is\"."
   ]
  },
  {
   "cell_type": "code",
   "execution_count": 10,
   "metadata": {},
   "outputs": [
    {
     "name": "stdout",
     "output_type": "stream",
     "text": [
      "Output for problem 1A:\n",
      "The type of p is float\n",
      "p squared is 6.29\n",
      "Output for problem 1B:\n",
      "The number of chars is 348\n"
     ]
    }
   ],
   "source": [
    "rv = \"\"\"Once upon a midnight dreary, while I pondered, weak and weary,\n",
    "    Over many a quaint and curious volume of forgotten lore,\n",
    "    While I nodded, nearly napping, suddenly there came a tapping,\n",
    "    As of some one gently rapping, rapping at my chamber door.\n",
    "    'Tis some visitor, I muttered, tapping at my chamber door;\n",
    "    Only this and nothing more.\"\"\"\n",
    "\n",
    "print(\"Output for problem 1A:\")\n",
    "p = 3.145\n",
    "print(\"The type of p is\", type(p).__name__)\n",
    "p *= 2\n",
    "print(\"p squared is\", p)\n",
    "\n",
    "\n",
    "\n",
    "print(\"Output for problem 1B:\")\n",
    "rv = \"example string\" * 25\n",
    "numChars = len(rv)-2\n",
    "print(\"The number of chars is\", numChars)\n"
   ]
  },
  {
   "cell_type": "markdown",
   "metadata": {
    "deletable": false,
    "editable": false,
    "run_control": {
     "frozen": true
    }
   },
   "source": [
    "<div class=\"alert alert-warning\">\n",
    "    <font face=\"verdana\" size=\"2\" color=\"033971\"><strong>Expected Output:</strong><br />\n",
    "Output for problem 1A:<br/>\n",
    "The type of p is float<br/>\n",
    "p squared is 6.29<br/>\n",
    "Output for problem 1B:<br/>\n",
    "The number of chars is 348</font></div>"
   ]
  },
  {
   "cell_type": "markdown",
   "metadata": {
    "deletable": false,
    "editable": false,
    "run_control": {
     "frozen": true
    }
   },
   "source": [
    "### <font color=\"blue\">Problem 2</font>\n",
    "\n",
    "The Pythagorean Theorem provides us with the relationship between the sides in a right triangle.  The formula is c<sup>2</sup> = a<sup>2</sup> + b<sup>2</sup> where a and b are the lengths of the sides and c is the length of the hypotenuse.  To calculate the value of c you need to take the square root of a<sup>2</sup> + b<sup>2</sup>.  You will use the _sqr_ function defined in the first cell to calculate the square root.\n",
    "\n",
    "In the cell below, write code that does the following:\n",
    "1. Write an assignment statement that assigns the square of the variable _a_ plus the square of variable _b_  to the variable _temp_. Note, the square of a number is that number multiplied by itself, e.g., _a_ * _a_.\n",
    "2. Write an assignment statement that passes _temp_ to the function _sqr_ and assigns the return value to _cee_. \n",
    "2. Print cee. "
   ]
  },
  {
   "cell_type": "code",
   "execution_count": 13,
   "metadata": {},
   "outputs": [
    {
     "name": "stdout",
     "output_type": "stream",
     "text": [
      "The length of c is 7.810249675906654\n"
     ]
    }
   ],
   "source": [
    "a = 5\n",
    "b = 6\n",
    "\n",
    "# write your code below\n",
    "\n",
    "def sqr(x):\n",
    "    return x ** 0.5\n",
    "    \n",
    "temp = a * a + b * b\n",
    "cee = sqr(temp)\n",
    "\n",
    "print(\"The length of c is\", (cee))\n",
    "\n"
   ]
  },
  {
   "cell_type": "markdown",
   "metadata": {
    "deletable": false,
    "editable": false,
    "run_control": {
     "frozen": true
    }
   },
   "source": [
    "<div class=\"alert alert-warning\">\n",
    "    <font face=\"verdana\" size=\"2\" color=\"033971\"><strong>Expected Output:</strong><br />\n",
    "    The length of c is 7.810249675906654</font></div>"
   ]
  },
  {
   "cell_type": "markdown",
   "metadata": {
    "deletable": false,
    "editable": false,
    "run_control": {
     "frozen": true
    }
   },
   "source": [
    "### <font color=\"blue\">Problem 3</font>\n",
    "\n",
    "The incomplete code below is intended to calculate a total of the integers in the list _l_ and store the result in the variable tot. Complete this code by adding an assignment statement, immediately below the comment, that adds  _n_ to _tot_ and stores the result back into _tot_. "
   ]
  },
  {
   "cell_type": "code",
   "execution_count": 16,
   "metadata": {},
   "outputs": [
    {
     "name": "stdout",
     "output_type": "stream",
     "text": [
      "The total is 15\n"
     ]
    }
   ],
   "source": [
    "l = [3,5,7]\n",
    "tot = 0\n",
    "for n in l:\n",
    "    # write the assignment statement below\n",
    "    tot += n\n",
    "\n",
    "    \n",
    "print(\"The total is\",tot)\n"
   ]
  },
  {
   "cell_type": "markdown",
   "metadata": {
    "deletable": false,
    "editable": false,
    "run_control": {
     "frozen": true
    }
   },
   "source": [
    "<div class=\"alert alert-warning\">\n",
    "    <font face=\"verdana\" size=\"2\" color=\"033971\"><strong>Expected Output:</strong><br />\n",
    " The total is 15</font></div>"
   ]
  },
  {
   "cell_type": "markdown",
   "metadata": {
    "deletable": false,
    "editable": false,
    "run_control": {
     "frozen": true
    }
   },
   "source": [
    "### <font color=\"blue\">Problem 4</font>\n",
    "\n",
    "The objective of the code below is:\n",
    "1. Calculate the circumference of a circle and store the result in the variable _circum_.\n",
    "2. Print the contents of the variable _circum_.\n",
    "\n",
    "Run the cell below.  There are two errors in the code: a run time error and a logic error. Alter the code below to correct the errors and print the correct value.  "
   ]
  },
  {
   "cell_type": "code",
   "execution_count": 19,
   "metadata": {},
   "outputs": [
    {
     "name": "stdout",
     "output_type": "stream",
     "text": [
      "The circumference of the circle with radius 5 is 31.45\n"
     ]
    }
   ],
   "source": [
    "pi = 3.145\n",
    "radius = 5\n",
    "circum = 2 * pi * radius\n",
    "print(\"The circumference of the circle with radius 5 is\",circum)\n",
    "\n"
   ]
  },
  {
   "cell_type": "markdown",
   "metadata": {
    "deletable": false,
    "editable": false,
    "run_control": {
     "frozen": true
    }
   },
   "source": [
    "<div class=\"alert alert-warning\">\n",
    "    <font face=\"verdana\" size=\"2\" color=\"033971\"><strong>Expected Output:</strong><br />\n",
    "    The circumference of the circle with radius 5 is 31.45</font></div>"
   ]
  },
  {
   "cell_type": "markdown",
   "metadata": {
    "deletable": false,
    "editable": false,
    "run_control": {
     "frozen": true
    }
   },
   "source": [
    "###  <font color=\"blue\">Problem 5</font>\n",
    "\n",
    "The first line of code below prompts the user to enter an integer. Write additional code as describe in the steps below:\n",
    "1. Print the type of the variable _userInput_.  Notice the type.\n",
    "2. Assign the variable _result1_ two times the contents of _userInput_.\n",
    "3. Print _result1_."
   ]
  },
  {
   "cell_type": "code",
   "execution_count": 25,
   "metadata": {},
   "outputs": [
    {
     "name": "stdin",
     "output_type": "stream",
     "text": [
      "Enter an integer: 5\n"
     ]
    },
    {
     "name": "stdout",
     "output_type": "stream",
     "text": [
      "< class 'str' >\n",
      "10\n"
     ]
    }
   ],
   "source": [
    "userInput = input('Enter an integer:')\n",
    "# write your code below\n",
    "type_string = str(type(userInput)).replace(\"<\", \"< \").replace(\">\", \" >\")  #Spaces\n",
    "print(type_string)\n",
    "result1 = 2 * int(userInput)\n",
    "print(result1)\n"
   ]
  },
  {
   "cell_type": "markdown",
   "metadata": {
    "deletable": false,
    "editable": false,
    "run_control": {
     "frozen": true
    }
   },
   "source": [
    "<div class=\"alert alert-warning\">\n",
    "    <font face=\"verdana\" size=\"2\" color=\"033971\"><strong>Expected Output:</strong><br />\n",
    "Enter an integer: 5<br />\n",
    "< class 'str' ><br />\n",
    "10<font></div>"
   ]
  },
  {
   "cell_type": "markdown",
   "metadata": {
    "deletable": false,
    "editable": false,
    "run_control": {
     "frozen": true
    }
   },
   "source": [
    "### <font color=\"blue\">Problem 6</font>\n",
    "\n",
    "The following code asks the user to enter two numbers. Write additional code in the cell below that does the following:\n",
    "1. Divides the first number by the second number and stores the result in the variable _result2_.\n",
    "2. Print the variable _result2_ as shown."
   ]
  },
  {
   "cell_type": "code",
   "execution_count": 30,
   "metadata": {},
   "outputs": [
    {
     "name": "stdin",
     "output_type": "stream",
     "text": [
      "Enter the first number:  20\n",
      "Enter the second number:  10\n"
     ]
    },
    {
     "name": "stdout",
     "output_type": "stream",
     "text": [
      "The result is 2.0\n"
     ]
    }
   ],
   "source": [
    "#import getpass\n",
    "firstNum = input('Enter the first number: ') # (hiddeninputs)firstNum = getpass.getpass('Enter the first number: ')\n",
    "secondNum = input('Enter the second number: ')\n",
    "# write your code below\n",
    "result2 = float(firstNum) / float(secondNum)  \n",
    "print(\"The result is\", result2)  # (removeints) print(\"The result is\", int(result2))\n"
   ]
  },
  {
   "cell_type": "markdown",
   "metadata": {
    "deletable": false,
    "editable": false,
    "run_control": {
     "frozen": true
    }
   },
   "source": [
    "<div class=\"alert alert-warning\">\n",
    "<font face=\"verdana\" size=\"2\" color=\"033971\"><strong>Expected Output:</strong><br />\n",
    "Enter the first number: 20<br />\n",
    "Enter the second number: 10<br />\n",
    "The result is  2.0</font></div>"
   ]
  },
  {
   "cell_type": "markdown",
   "metadata": {
    "deletable": false,
    "editable": false,
    "run_control": {
     "frozen": true
    }
   },
   "source": [
    "### <font color=\"blue\">Problem 7</font>\n",
    "\n",
    "There a function in the first cell called _greeting_, which takes any string and prepends \"Hello, \".  Another function is called _randomDigit_, which returns a random integer between 0 and 9 (inclusive). \n",
    "\n",
    "Code is already include in the cell below that demonstrates the use of these functions.\n",
    "\n",
    "Write code below that does the following:\n",
    "1.  Call the function _randomDigit_ without any parameters (you still need the parantheses) and store the returned value in  the variable _newDigit_. \n",
    "2.  Print _newDigit_\n",
    "3.  Again, call the function _randomDigit_ without any parameters and store the returned value in  the variable _newDigit_. \n",
    "3.  Print _newDigit_\n",
    "1.  Call the function _greeting_ with a string of your choice and store the returned result in the variable _greet_. \n",
    "2.  Print the type of the variable _greet_.\n",
    "3.  Print _greet_."
   ]
  },
  {
   "cell_type": "code",
   "execution_count": 35,
   "metadata": {},
   "outputs": [
    {
     "name": "stdout",
     "output_type": "stream",
     "text": [
      "The first call to randomDigit returns 3\n",
      "The first call to randomDigit returns 4\n",
      "<class 'str'>\n",
      "Hello, Mike\n"
     ]
    }
   ],
   "source": [
    "# do not change the code below\n",
    "for i in range(50):\n",
    "    r = randomDigit()\n",
    "\n",
    "# add your code below\n",
    "newDigit = randomDigit()\n",
    "print (\"The first call to randomDigit returns\", newDigit)\n",
    "\n",
    "newDigit = randomDigit()\n",
    "print(\"The first call to randomDigit returns\", newDigit)\n",
    "\n",
    "greet = greeting(\"Mike\")\n",
    "print(type(greet))\n",
    "print(greet)\n",
    "\n"
   ]
  },
  {
   "cell_type": "markdown",
   "metadata": {
    "deletable": false,
    "editable": false,
    "run_control": {
     "frozen": true
    }
   },
   "source": [
    "<div class=\"alert alert-warning\">\n",
    "<font face=\"verdana\" size=\"2\" color=\"033971\">\n",
    "Note:  since randomDigit is a pseudorandom number generator, the values shown in the output will be different than your result.</font><br />\n",
    "<font face=\"verdana\" size=\"2\" color=\"033971\"><strong>Expected Output:</strong><br />\n",
    "The first call to randomDigit returns 1<br />\n",
    "The next call to randomDigit returns 3<br />\n",
    "< class 'str' ><br />\n",
    "    Hello, Mike</font></div>"
   ]
  },
  {
   "cell_type": "markdown",
   "metadata": {
    "deletable": false,
    "editable": false,
    "run_control": {
     "frozen": true
    }
   },
   "source": [
    "### <font color=\"blue\">Problem 8</font>\n",
    "\n",
    "The incomplete code below includes a user written function called _cube_ that accepts an integer parameter _num_.   The function should cube the variable _num_, i.e., multiply _num_ by itself three times, and store the result in the variable _result_.  Do not change the existing code in the cell but add your code where indicated to achieve this goal.  "
   ]
  },
  {
   "cell_type": "code",
   "execution_count": 37,
   "metadata": {},
   "outputs": [
    {
     "name": "stdout",
     "output_type": "stream",
     "text": [
      "cube returned 8 when passed the value 8\n",
      "cube returned 27 when passed the value 27\n"
     ]
    }
   ],
   "source": [
    "def cube(num):\n",
    "    result = num ** 3\n",
    "    return result\n",
    "\n",
    "# do not change the code below\n",
    "r = cube(2)\n",
    "#I was unsure if I was supposed to remove the wording if that's possible by altering the coding above?\n",
    "print('cube returned',r,'when passed the value',r)\n",
    "r = cube(3)\n",
    "print('cube returned',r,'when passed the value',r)"
   ]
  },
  {
   "cell_type": "markdown",
   "metadata": {
    "deletable": false,
    "editable": false,
    "run_control": {
     "frozen": true
    }
   },
   "source": [
    "<div class=\"alert alert-warning\">\n",
    "    <font face=\"verdana\" size=\"2\" color=\"033971\"><strong>Expected Output:</strong><br />\n",
    "8<br />\n",
    "        27</font></div>"
   ]
  },
  {
   "cell_type": "markdown",
   "metadata": {
    "deletable": false,
    "editable": false,
    "run_control": {
     "frozen": true
    }
   },
   "source": [
    "### <font color=\"blue\">Problem 9</font>\n",
    "\n",
    "Alter the arithmetic expression in the assignment statement below so that the subexpressions 6 - 2 and 4 - 2 are evaluated first.  "
   ]
  },
  {
   "cell_type": "code",
   "execution_count": 38,
   "metadata": {},
   "outputs": [
    {
     "name": "stdout",
     "output_type": "stream",
     "text": [
      "32\n"
     ]
    }
   ],
   "source": [
    "num1 = 4 * (6 - 2) * (4 - 2)\n",
    "print(num1)\n",
    "\n"
   ]
  },
  {
   "cell_type": "markdown",
   "metadata": {
    "deletable": false,
    "editable": false,
    "run_control": {
     "frozen": true
    }
   },
   "source": [
    "<div class=\"alert alert-warning\">\n",
    "<font face=\"verdana\" size=\"2\" color=\"033971\"><strong>Expected Output:</strong><br />\n",
    "32</font></div>"
   ]
  },
  {
   "cell_type": "markdown",
   "metadata": {
    "deletable": false,
    "editable": false,
    "run_control": {
     "frozen": true
    }
   },
   "source": [
    "### <font color=\"blue\">Problem 10</font>\n",
    "\n",
    "The cell below contains syntax and semantic errors.  Run the cell and observe the errors.  Correct any errors that are present such that the code in the cell runs error free.  DO NOT REMOVE any code."
   ]
  },
  {
   "cell_type": "code",
   "execution_count": 42,
   "metadata": {},
   "outputs": [],
   "source": [
    "second = 0\n",
    "\n",
    "var = 1 + 2\n",
    "\n",
    "x = \"1.2\"\n",
    "y = 2 * float(x)\n",
    "\n",
    "z = 5\n",
    "\n",
    "\n",
    "\n",
    "\n",
    "\n",
    "\n",
    "\n"
   ]
  },
  {
   "cell_type": "markdown",
   "metadata": {
    "deletable": false,
    "editable": false,
    "run_control": {
     "frozen": true
    }
   },
   "source": [
    "### <font color=\"blue\">Run the cells below to test your code</font>"
   ]
  },
  {
   "cell_type": "code",
   "execution_count": 46,
   "metadata": {
    "deletable": false,
    "editable": false
   },
   "outputs": [],
   "source": [
    "import unittest\n",
    "\n",
    "class PS01_01 (unittest.TestCase):\n",
    "    def test_problem01(self):\n",
    "        self.assertEqual(p, 6.29)\n",
    "        self.assertEqual(numChars,348)\n",
    "        \n",
    "class PS01_02 (unittest.TestCase):\n",
    "    def test_problem02(self):\n",
    "        self.assertEqual(cee,7.810249675906654)        \n",
    "\n",
    "class PS01_03 (unittest.TestCase):\n",
    "    def test_problem03(self):\n",
    "        self.assertEqual(tot,15)\n",
    "\n",
    "class PS01_04 (unittest.TestCase):\n",
    "    def test_problem04(self):\n",
    "        self.assertEqual(circum,31.45)\n",
    "\n",
    "class PS01_05 (unittest.TestCase):\n",
    "    def test_problem05(self):\n",
    "        self.assertEqual(result1,2 * int(userInput))\n",
    "\n",
    "class PS01_06 (unittest.TestCase):\n",
    "    def test_problem06(self):\n",
    "        self.assertEqual(result2,int(firstNum)/int(secondNum))\n",
    "\n",
    "class PS01_07 (unittest.TestCase):\n",
    "    def test_problem08(self):\n",
    "        self.assertIsInstance(greet,str)\n",
    "        self.assertTrue(0 <= newDigit <= 9)\n",
    "        \n",
    "class PS01_08 (unittest.TestCase):\n",
    "    def test_problem08(self):\n",
    "        self.assertEqual(8,cube(2))\n",
    "\n",
    "class PS01_09 (unittest.TestCase):\n",
    "    def test_problem09(self):\n",
    "        self.assertEqual(num1,32)"
   ]
  },
  {
   "cell_type": "code",
   "execution_count": 47,
   "metadata": {
    "deletable": false,
    "editable": false
   },
   "outputs": [
    {
     "name": "stderr",
     "output_type": "stream",
     "text": [
      "test_problem01 (__main__.PS01_01.test_problem01) ... ok\n",
      "test_problem02 (__main__.PS01_02.test_problem02) ... ok\n",
      "test_problem03 (__main__.PS01_03.test_problem03) ... ok\n",
      "test_problem04 (__main__.PS01_04.test_problem04) ... ok\n",
      "test_problem05 (__main__.PS01_05.test_problem05) ... ok\n",
      "test_problem06 (__main__.PS01_06.test_problem06) ... ok\n",
      "test_problem08 (__main__.PS01_07.test_problem08) ... ok\n",
      "test_problem08 (__main__.PS01_08.test_problem08) ... ok\n",
      "test_problem09 (__main__.PS01_09.test_problem09) ... ok\n",
      "\n",
      "----------------------------------------------------------------------\n",
      "Ran 9 tests in 0.011s\n",
      "\n",
      "OK\n"
     ]
    },
    {
     "data": {
      "text/plain": [
       "<unittest.main.TestProgram at 0x119db0830>"
      ]
     },
     "execution_count": 47,
     "metadata": {},
     "output_type": "execute_result"
    }
   ],
   "source": [
    "unittest.main(argv=['first-arg-is-ignored'], exit=False, verbosity=2)"
   ]
  },
  {
   "cell_type": "code",
   "execution_count": null,
   "metadata": {},
   "outputs": [],
   "source": []
  }
 ],
 "metadata": {
  "kernelspec": {
   "display_name": "Python 3 (ipykernel)",
   "language": "python",
   "name": "python3"
  },
  "language_info": {
   "codemirror_mode": {
    "name": "ipython",
    "version": 3
   },
   "file_extension": ".py",
   "mimetype": "text/x-python",
   "name": "python",
   "nbconvert_exporter": "python",
   "pygments_lexer": "ipython3",
   "version": "3.12.5"
  },
  "varInspector": {
   "cols": {
    "lenName": 16,
    "lenType": 16,
    "lenVar": 40
   },
   "kernels_config": {
    "python": {
     "delete_cmd_postfix": "",
     "delete_cmd_prefix": "del ",
     "library": "var_list.py",
     "varRefreshCmd": "print(var_dic_list())"
    },
    "r": {
     "delete_cmd_postfix": ") ",
     "delete_cmd_prefix": "rm(",
     "library": "var_list.r",
     "varRefreshCmd": "cat(var_dic_list()) "
    }
   },
   "types_to_exclude": [
    "module",
    "function",
    "builtin_function_or_method",
    "instance",
    "_Feature"
   ],
   "window_display": false
  }
 },
 "nbformat": 4,
 "nbformat_minor": 4
}
