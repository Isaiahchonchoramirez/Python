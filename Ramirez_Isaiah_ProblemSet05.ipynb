{
 "cells": [
  {
   "cell_type": "markdown",
   "metadata": {
    "deletable": false,
    "editable": false,
    "run_control": {
     "frozen": true
    }
   },
   "source": [
    "## <span style=\"color:blue\">Problem Set 5</span>"
   ]
  },
  {
   "cell_type": "raw",
   "metadata": {},
   "source": [
    "Isaiah Ramirez\n"
   ]
  },
  {
   "cell_type": "markdown",
   "metadata": {
    "deletable": false,
    "editable": false,
    "run_control": {
     "frozen": true
    }
   },
   "source": [
    "### <font color='blue'>Note:</font>\n",
    "1. Use the variable names defined in the instructions for each problem.  Failure to do so will result in a loss of points.\n",
    "\n",
    "2. You need to use code to arrive at a solution. Hard coding a solution results in 0 points for the problem.\n",
    "\n",
    "3. Use only syntax covered in the Units so far. Using any other syntax results in 0 points for the problem.\n"
   ]
  },
  {
   "cell_type": "markdown",
   "metadata": {
    "deletable": false,
    "editable": false,
    "run_control": {
     "frozen": true
    }
   },
   "source": [
    "### <font color=\"blue\">Problem 1</font>\n",
    "The function _isFactor_ accepts two arguments _num1_ and _num2_. Write code in the function that does the following:\n",
    "1. Checks that both _num1_ and _num2_ are numbers (int or float).  \n",
    "2. Return the string _badargs_ if one or both arguments are not numbers.\n",
    "3. Otherwise, divide num1 by num2.\n",
    "4. If the remainder is 0:\n",
    "     1. The function returns True \n",
    "5. Otherwise:\n",
    "     2. The function returns False. \n",
    "     \n",
    "While you may use the _type_ function to test for the argument type, the _isinstance_ function is a better approach."
   ]
  },
  {
   "cell_type": "code",
   "execution_count": 1,
   "metadata": {},
   "outputs": [
    {
     "name": "stdout",
     "output_type": "stream",
     "text": [
      "2 is a factor of 20\n",
      "10 is a factor of 20\n",
      "17 is not a factor of 20\n",
      "20 and/or abs is not a number\n",
      "abc and/or 2 is not a number\n",
      "abc and/or 10 is not a number\n",
      "abc and/or 17 is not a number\n",
      "abc and/or abs is not a number\n"
     ]
    }
   ],
   "source": [
    "# write the function below\n",
    "\n",
    "def isFactor(num1, num2):\n",
    "    if not isinstance(num1, (int, float)) or not isinstance(num2, (int, float)):\n",
    "        return 'badargs'\n",
    "    if num1 % num2 == 0:\n",
    "        return True\n",
    "    else:\n",
    "        return False\n",
    "\n",
    "# Do not change the code below\n",
    "\n",
    "for dividend in [20,'abc']:\n",
    "    for divisor in [2,10,17,'abs']:\n",
    "        if isFactor(dividend,divisor) == 'badargs':\n",
    "            print(dividend,'and/or',divisor,'is not a number')\n",
    "        elif isFactor(dividend,divisor) == True:\n",
    "            print(divisor,'is a factor of',dividend)\n",
    "        else:\n",
    "            print(divisor,'is not a factor of',dividend)"
   ]
  },
  {
   "cell_type": "markdown",
   "metadata": {
    "deletable": false,
    "run_control": {
     "frozen": true
    },
    "slideshow": {
     "slide_type": ""
    },
    "tags": []
   },
   "source": [
    "<div class=\"alert alert-warning\">\n",
    "    <font face=\"verdana\" size=\"2\" color=\"033971\"><strong>Expected Output:</strong><br />\n",
    "2 is a factor of 20<br/>\n",
    "10 is a factor of 20<br/>\n",
    "17 is not a factor of 20<br/>\n",
    "20 and/or abs is not a number<br/>\n",
    "abc and/or 2 is not a number<br/>\n",
    "abc and/or 17 is not a number<br/>\n",
    "abc and/or abs is not a number</div>"
   ]
  },
  {
   "cell_type": "markdown",
   "metadata": {
    "deletable": false,
    "editable": false,
    "run_control": {
     "frozen": true
    },
    "slideshow": {
     "slide_type": ""
    },
    "tags": []
   },
   "source": [
    "### <font color=\"blue\">Problem 2</font>\n",
    "Write a function called _removeColor_ that accepts the string parameter _colorToRemove_ and the list parameter _colors_. The function does the following:\n",
    "1. Searches the list _colors_ for the string _colorToRemove_.  \n",
    "2. If _colorToRemove_ is not present in the list, return _False_.\n",
    "3. If _colorToRemove_ is present in the list, remove _colorToRemove_.\n",
    "4.  Return _True_.\n",
    "\n",
    "Write code where indicated that iterates over the list color_to_remove and calls removeColor to produce the expected output shown below.\n",
    "\n",
    "Hint: the list method _remove_ removes an element from a list."
   ]
  },
  {
   "cell_type": "code",
   "execution_count": 2,
   "metadata": {
    "scrolled": true
   },
   "outputs": [
    {
     "name": "stdout",
     "output_type": "stream",
     "text": [
      "The original list is ['red', 'green', 'blue', 'black', 'orange', 'magnenta']\n",
      "The color to remove is green\n",
      "green has been removed\n",
      "The original list is ['red', 'blue', 'black', 'orange', 'magnenta']\n",
      "The color to remove is purple\n",
      "purple is not in the list\n"
     ]
    }
   ],
   "source": [
    "# write the function below\n",
    "\n",
    "def removeColor(colorToRemove, colors):\n",
    "    if colorToRemove in colors:\n",
    "        colors.remove(colorToRemove)\n",
    "        return True\n",
    "    else:\n",
    "        return False\n",
    "\n",
    "\n",
    "# Do not change the code below\n",
    "\n",
    "colors = ['red','green','blue','black','orange','magnenta']\n",
    "color_to_remove = ['green','purple']\n",
    "\n",
    "# write your code below\n",
    "\n",
    "print(\"The original list is\", colors)\n",
    "\n",
    "for color in color_to_remove:\n",
    "    print(f\"The color to remove is {color}\")\n",
    "    if removeColor(color, colors):\n",
    "        print(f\"{color} has been removed\")\n",
    "        print(\"The original list is\", colors)\n",
    "    else:\n",
    "        print(f\"{color} is not in the list\")"
   ]
  },
  {
   "cell_type": "markdown",
   "metadata": {
    "deletable": false,
    "editable": false,
    "run_control": {
     "frozen": true
    }
   },
   "source": [
    "<div class=\"alert alert-warning\">\n",
    "    <font face=\"verdana\" size=\"2\" color=\"033971\"><strong>Expected Output:</strong><br />\n",
    "The original list is ['red', 'green', 'blue', 'black', 'orange', 'magnenta']<br />\n",
    "The color to remove is green<br />\n",
    "green has been removed<br />\n",
    "The original list is ['red', 'blue', 'black', 'orange', 'magnenta']<br />\n",
    "The color to remove is purple<br />\n",
    "purple is not in the list</div>"
   ]
  },
  {
   "cell_type": "markdown",
   "metadata": {
    "deletable": false,
    "editable": false,
    "run_control": {
     "frozen": true
    }
   },
   "source": [
    "### <font color=\"blue\">Problem 3</font>\n",
    "Write a function called _countVowels_ that accepts a string argument and counts the number of vowels (a,e,i,o,u) in the string.  The function must not be case sensitive, so an \"A\" or \"a\" are both counted as vowels. The function must perform type checking, i.e., the argument is a string type, and returns False when the type check is not successful.  Otherwise, the function returns the vowel count. "
   ]
  },
  {
   "cell_type": "code",
   "execution_count": 3,
   "metadata": {},
   "outputs": [
    {
     "name": "stdout",
     "output_type": "stream",
     "text": [
      "There are  99 vowels in the string\n",
      "False\n"
     ]
    }
   ],
   "source": [
    "# write the function below\n",
    "\n",
    "def countVowels(inputString):\n",
    "    if not isinstance(inputString, str):\n",
    "        return False\n",
    "    inputString = inputString.lower()\n",
    "    vowel_count = 0\n",
    "    vowels = \"aeiou\"\n",
    "    for char in inputString:\n",
    "        if char in vowels:\n",
    "            vowel_count += 1\n",
    "    return vowel_count\n",
    "\n",
    "# Do not change the code below\n",
    "theRaven = '''Once upon a midnight dreary, while I pondered, weak and weary,\n",
    "Over many a quaint and curious volume of forgotten lore—\n",
    "    While I nodded, nearly napping, suddenly there came a tapping,\n",
    "As of some one gently rapping, rapping at my chamber door.\n",
    "“’Tis some visitor,” I muttered, “tapping at my chamber door—\n",
    "            Only this and nothing more.”'''    \n",
    "    \n",
    "count = countVowels(theRaven)\n",
    "print(\"There are \",count,\"vowels in the string\")\n",
    "print(countVowels(None))"
   ]
  },
  {
   "cell_type": "markdown",
   "metadata": {
    "deletable": false,
    "editable": false,
    "run_control": {
     "frozen": true
    }
   },
   "source": [
    "<div class=\"alert alert-warning\">\n",
    "    <font face=\"verdana\" size=\"2\" color=\"033971\"><strong>Expected Output:</strong><br />\n",
    "There are  99 vowels in the string<br />\n",
    "False</div>"
   ]
  },
  {
   "cell_type": "markdown",
   "metadata": {
    "deletable": false,
    "editable": false,
    "run_control": {
     "frozen": true
    }
   },
   "source": [
    "### <font color=\"blue\">Problem 4</font>\n",
    "Write a function called _getValues_ that is passed the parameter _myDict_.  The function must perform type checking on _myDict_ and return False in the event that the type is not a dictionary.  Provided that type checking succeeds, the function creates a list of the dictionary values by iterating over _myDict_ and returns that list to the caller. \n",
    "\n",
    "Do not use any dictionary method other than the _items()_ method. "
   ]
  },
  {
   "cell_type": "code",
   "execution_count": 4,
   "metadata": {},
   "outputs": [
    {
     "name": "stdout",
     "output_type": "stream",
     "text": [
      "The values in the dictionary {'CPS141': 60, 'CSS210': 30, 'CPS161': 20} are [60, 30, 20]\n",
      "None is not a dictionary\n",
      "5 is not a dictionary\n"
     ]
    }
   ],
   "source": [
    "# write the function below\n",
    "\n",
    "def getValues(myDict):\n",
    "    if not isinstance(myDict, dict):\n",
    "        return False\n",
    "    values_list = []\n",
    "    for key, value in myDict.items():\n",
    "        values_list.append(value)\n",
    "    return values_list\n",
    "\n",
    "# do not change the code below\n",
    "courses = [{'CPS141':60, 'CSS210':30, 'CPS161':20},None,5]\n",
    "for item in courses:\n",
    "    ret = getValues(item)\n",
    "    if not ret:\n",
    "        print(item,'is not a dictionary')\n",
    "    else:                                                   \n",
    "        print('The values in the dictionary',item,'are',ret)"
   ]
  },
  {
   "cell_type": "markdown",
   "metadata": {
    "deletable": false,
    "editable": false,
    "run_control": {
     "frozen": true
    }
   },
   "source": [
    "<div class=\"alert alert-warning\">\n",
    "    <font face=\"verdana\" size=\"2\" color=\"033971\"><strong>Expected Output:</strong><br />\n",
    "The values in the dictionary {'CPS141': 60, 'CSS210': 30, 'CPS161': 20} are [60, 30, 20]<br />\n",
    "None is not a dictionary<br />\n",
    "5 is not a dictionary</div>"
   ]
  },
  {
   "cell_type": "markdown",
   "metadata": {
    "deletable": false,
    "editable": false,
    "run_control": {
     "frozen": true
    },
    "slideshow": {
     "slide_type": ""
    },
    "tags": []
   },
   "source": [
    "### <font color=\"blue\">Problem 5</font>\n",
    "Define a function called _maxInList_ that accepts the argument _myList_ which as list.  The function must do type checking on _myList_ returning False when the check fails. If the list is empty, your function should return False. After both checks succeed, the function returns the largest integer found in _myList_.  The function must also perform type checking on the elements of the list.  If any element in the list is not a float or integer, it must be ignored."
   ]
  },
  {
   "cell_type": "code",
   "execution_count": 5,
   "metadata": {},
   "outputs": [
    {
     "name": "stdout",
     "output_type": "stream",
     "text": [
      "Passing 5 to maxInList results in a return value of False\n",
      "Passing an empty list to maxInList results in a return value of False\n",
      "Passing [1, 15.5, 73, 3, 6.5, 10, 24] to maxInList results in a return value of 73\n",
      "Passing [1, 15.5, 'abc', 3, (3, 6), 10, 24] to maxInList results in a return value of 24\n"
     ]
    }
   ],
   "source": [
    "# write the function below\n",
    "\n",
    "def maxInList(myList):\n",
    "    if not isinstance(myList, list):\n",
    "        return False\n",
    "    if len(myList) == 0:\n",
    "        return False\n",
    "    max_value = None\n",
    "    for item in myList:\n",
    "        if isinstance(item, (int, float)):\n",
    "            if max_value is None or item > max_value:\n",
    "                max_value = item\n",
    "    return max_value if max_value is not None else False\n",
    "        \n",
    "#  Do not change the code below\n",
    "myList1 = [1,15.5,73,3,6.5,10,24]\n",
    "myList2 = [1,15.5,'abc',3,(3,6),10,24]\n",
    "print('Passing 5 to maxInList results in a return value of',maxInList(5)) \n",
    "print('Passing an empty list to maxInList results in a return value of',maxInList([])) \n",
    "print('Passing',myList1,'to maxInList results in a return value of',maxInList(myList1)) \n",
    "print('Passing',myList2,'to maxInList results in a return value of',maxInList(myList2)) "
   ]
  },
  {
   "cell_type": "markdown",
   "metadata": {
    "deletable": false,
    "editable": false,
    "run_control": {
     "frozen": true
    }
   },
   "source": [
    "<div class=\"alert alert-warning\">\n",
    "    <font face=\"verdana\" size=\"2\" color=\"033971\"><strong>Expected Output:</strong><br />\n",
    "Passing 5 to maxInList results in a return value of False<br />\n",
    "Passing an empty list to maxInList results in a return value of False<br />\n",
    "Passing [1, 15.5, 73, 3, 6.5, 10, 24] to maxInList results in a return value of 73<br />\n",
    "Passing [1, 15.5, 'abc', 3, (3, 6), 10, 24] to maxInList results in a return value of 24</div>"
   ]
  },
  {
   "cell_type": "markdown",
   "metadata": {
    "deletable": false,
    "editable": false,
    "run_control": {
     "frozen": true
    }
   },
   "source": [
    "### <font color=\"blue\">Problem 6</font>\n",
    "Write a function named _wordsStartingWith_ that accepts the string _sentence_.  The function returns a dictionary whose keys are the unique first letter of each word in the string and whose associated value is a list of words starting with that letter. For example, calling the function as below:\n",
    "&nbsp;&nbsp;&nbsp;&nbsp;&nbsp;&nbsp;wordsStartingWith(\"this is the correct Terminal\")    \n",
    "returns:    \n",
    "&nbsp;&nbsp;&nbsp;&nbsp;&nbsp;&nbsp;{ \"t\": [\"this\", \"the\", \"terminal\"], \"i\": [\"is\"], \"c\": [\"correct\"]}\n",
    "      \n",
    "Do the following in the function:\n",
    "1. Split the sentence into words. Note, the string has embedded new-line (\\n) characters.  You need to replace the new-line character with a space. (search for the replace() function in strings).\n",
    "2. Initialize an empty dictionary.\n",
    "3. Iterate over the words:\n",
    "    1. Convert the first letter to lower case.\n",
    "    2. If the first character of the current word is not in the dictionary:<br />\n",
    "          Initialize the dictionary entry for the current character with a list containing the current word.\n",
    "    3. Otherwise:  \n",
    "          Append the current word to the value for the current character key.  \n",
    "4. Return the dictionary"
   ]
  },
  {
   "cell_type": "code",
   "execution_count": 6,
   "metadata": {},
   "outputs": [
    {
     "name": "stdout",
     "output_type": "stream",
     "text": [
      "{'a': ['A', 'always', 'Are', 'apart'], 's': ['satire,', 'see', 'satire', 'so'], 'h': ['however', 'hard', 'how'], 'i': ['it', 'it', 'is', 'it'], 't': ['tries', 'tear', 'to', 'the'], 'w': ['Will'], 'b': ['be', 'by'], 'd': ['delightful', 'delicious', 'Does'], 'y': ['you', 'you'], 'u': ['upset'], 'p': ['pleasing']}\n"
     ]
    }
   ],
   "source": [
    "# write the function below\n",
    "\n",
    "def wordsStartingWith(sentence):\n",
    "    sentence = sentence.replace('\\n', ' ')\n",
    "    words = sentence.split()\n",
    "    result = {}\n",
    "    for word in words:\n",
    "        first_letter = word[0].lower()\n",
    "        if first_letter not in result:\n",
    "            result[first_letter] = [word]\n",
    "        else:\n",
    "            result[first_letter].append(word)\n",
    "    return result\n",
    "\n",
    "# Do not change the code below\n",
    "sentence = \"\"\"A satire, however hard it tries\n",
    "Will always be delightful\n",
    "Are you upset by how delicious it is\n",
    "Does it tear you apart to see the satire so pleasing\"\"\"\n",
    "print(wordsStartingWith(sentence))"
   ]
  },
  {
   "cell_type": "markdown",
   "metadata": {
    "deletable": false,
    "editable": false,
    "run_control": {
     "frozen": true
    }
   },
   "source": [
    "<div class=\"alert alert-warning\">\n",
    "    <font face=\"verdana\" size=\"2\" color=\"033971\"><strong>Expected Output:</strong><br />\n",
    "{'a': ['A', 'always', 'Are', 'apart'], 's': ['satire,', 'see', 'satire', 'so'], 'h': ['however', 'hard', 'how'], 'i': ['it', 'it', 'is', 'it'], 't': ['tries', 'tear', 'to', 'the'], 'w': ['Will'], 'b': ['be', 'by'], 'd': ['delightful', 'delicious', 'Does'], 'y': ['you', 'you'], 'u': ['upset'], 'p': ['pleasing']}</div>"
   ]
  },
  {
   "cell_type": "markdown",
   "metadata": {
    "deletable": false,
    "editable": false,
    "run_control": {
     "frozen": true
    }
   },
   "source": [
    "### <font color=\"blue\">Problem 7</font>\n",
    "Define a function called _square_ that accepts the integer parameter _num_ and returns the square of _num_.\n",
    "\n",
    "Define a function called _myMap_ that accepts two arguments: a function _func_ and a list _myList_. The function does the following:\n",
    "1. Initialize _result_ to an empty list.\n",
    "2. Iterate over _myList_:\n",
    "   1. Calls _func_ (not square) with the current list element.\n",
    "   2. Append the value returned by _func_ to _result_. \n",
    "3. Return _result_"
   ]
  },
  {
   "cell_type": "code",
   "execution_count": 7,
   "metadata": {},
   "outputs": [
    {
     "name": "stdout",
     "output_type": "stream",
     "text": [
      "The square of ever element in [1, 2, 3] is [1, 4, 9]\n"
     ]
    }
   ],
   "source": [
    "# write the functions below\n",
    "\n",
    "def square(num):\n",
    "    return num * num\n",
    "def myMap(func, myList):\n",
    "    result = []\n",
    "    for item in myList:\n",
    "        result.append(func(item))\n",
    "    return result\n",
    "\n",
    "# Do not change the code below\n",
    "myList = [1,2,3]\n",
    "result = myMap(square, myList)\n",
    "print('The square of ever element in',myList,'is',result)"
   ]
  },
  {
   "cell_type": "markdown",
   "metadata": {
    "deletable": false,
    "editable": false,
    "run_control": {
     "frozen": true
    }
   },
   "source": [
    "<div class=\"alert alert-warning\">\n",
    "    <font face=\"verdana\" size=\"2\" color=\"033971\"><strong>Expected Output:</strong><br />\n",
    "The square of ever element in [1, 2, 3] is [1, 4, 9]</div>"
   ]
  },
  {
   "cell_type": "markdown",
   "metadata": {
    "deletable": false,
    "editable": false,
    "run_control": {
     "frozen": true
    }
   },
   "source": [
    "### <font color=\"blue\">Problem 8</font>\n",
    "In this problem you are to calculate the largest Scrabble score for a word in a list of words and find the word with the highest Scrabble score.  This problem has the following parts:\n",
    "\n",
    "1. Write the function _computeScrabbleScore_ that accepts the parameter _word_ that returns the Scrabble score for that word. The Scrabble Score for a word is the sum of the values associated with each letter in the word.  The dictionary _letter_values_  has the Scrabble values for each letter in the alphabet.  This is a simple accumulation where the score is determined by iterating over each letter in _word_ and indexing into _letter_values_ using that letter to retrieve the value.\n",
    "\n",
    "\n",
    "2. Write the function _wordScore_ that accepts a list of words as a parameter and builds a dictionary that has the word as the key and the associated Scrabble score for the word as the value.  This function calls _computeScrabbleScore_ to get the score for each word.\n",
    "\n",
    "\n",
    "3.  Write the function _bestWord_ that accepts the dictionary of words and scores and returns the tuple of the word and score for the word with the highest score.  Use a max accumulation pattern to iterate over the dictionary to find the word with the highest score.\n",
    "\n",
    "Note, that _letter_values_ has only lower case letters.  You need to allow for uppercase letters.  This means you need to convert upper case letters to lower case before accumulating the Scrabble score for the word. \n",
    "\n",
    "Develop this problem incrementally:\n",
    "1. Develop the code for _computeScrabbleScore_.\n",
    "2. Test _computeScrabbleScore_ until successful.\n",
    "3. Develop the code for _wordScore_.\n",
    "4. Test _wordScore_ until successful.\n",
    "5. Develop the code for _bestWord_ .\n",
    "6. Test _bestWord_ until successful."
   ]
  },
  {
   "cell_type": "code",
   "execution_count": 8,
   "metadata": {},
   "outputs": [
    {
     "name": "stdout",
     "output_type": "stream",
     "text": [
      "{'Half': 10, 'a': 1, 'league': 7, 'half': 10, 'onward': 10, 'All': 3, 'in': 2, 'the': 6, 'valley': 16, 'of': 5, 'Death': 9, 'Rode': 5, 'six': 10, 'hundred': 12, 'Forward': 14, 'Light': 9, 'Brigade': 11, 'Charge': 12, 'for': 6, 'guns': 5, 'he': 5, 'said': 5, 'Into': 4}\n",
      "The word with the highest score is valley with a score of 16\n"
     ]
    }
   ],
   "source": [
    "# write the functions below\n",
    "\n",
    "letter_values = {\n",
    "    'a': 1, 'b': 3, 'c': 3, 'd': 2, 'e': 1, 'f': 4, 'g': 2, 'h': 4,\n",
    "    'i': 1, 'j': 8, 'k': 5, 'l': 1, 'm': 3, 'n': 1, 'o': 1, 'p': 3,\n",
    "    'q': 10, 'r': 1, 's': 1, 't': 1, 'u': 1, 'v': 8, 'w': 4, 'x': 8,\n",
    "    'y': 4, 'z': 10\n",
    "}\n",
    "\n",
    "def computeScrabbleScore(word):\n",
    "    score = 0\n",
    "    for letter in word.lower():\n",
    "        if letter in letter_values:\n",
    "            score += letter_values[letter]\n",
    "    return score\n",
    "\n",
    "def wordScore(words):\n",
    "    score_dict = {}\n",
    "    for word in words:\n",
    "        score_dict[word] = computeScrabbleScore(word)\n",
    "    return score_dict\n",
    "\n",
    "def bestWord(score_dict):\n",
    "    highest_score_word = None\n",
    "    highest_score = 0\n",
    "    for word, score in score_dict.items():\n",
    "        if score > highest_score:\n",
    "            highest_score = score\n",
    "            highest_score_word = word\n",
    "    return (highest_score_word, highest_score)\n",
    "\n",
    "# do not change the code below\n",
    "letter_values = {'a': 1, 'b': 3, 'c': 3, 'd': 2, 'e': 1, 'f':4, 'g': 2, 'h':4, 'i':1,'j':8, 'k':5,\n",
    "                 'l':1, 'm':3, 'n':1, 'o':1, 'p':3, 'q':10, 'r':1, 's':1, 't':1, 'u':1,'v':8, 'w':4,\n",
    "                 'x':8, 'y':4, 'z':10}\n",
    "word_list = ['Half','a','league','half','a','league','Half','a','league','onward',\n",
    "         'All','in','the','valley','of','Death','Rode','the','six','hundred',\n",
    "         'Forward','the','Light','Brigade','Charge','for','the','guns','he','said',\n",
    "         'Into','the','valley','of','Death','Rode','the','six','hundred']\n",
    "wordDict = wordScore(word_list)\n",
    "print(wordDict)\n",
    "best_word = bestWord(wordDict)\n",
    "print(\"The word with the highest score is\",best_word[0],\"with a score of\",best_word[1])"
   ]
  },
  {
   "cell_type": "markdown",
   "metadata": {
    "deletable": false,
    "editable": false,
    "run_control": {
     "frozen": true
    }
   },
   "source": [
    "<div class=\"alert alert-warning\">\n",
    "    <font face=\"verdana\" size=\"2\" color=\"033971\"><strong>Expected Output:</strong><br />\n",
    "{'Half': 10, 'a': 1, 'league': 7, 'half': 10, 'onward': 10, 'All': 3, 'in': 2, 'the': 6, 'valley': 16, 'of': 5, 'Death': 9, 'Rode': 5, 'six': 10, 'hundred': 12, 'Forward': 14, 'Light': 9, 'Brigade': 11, 'Charge': 12, 'for': 6, 'guns': 5, 'he': 5, 'said': 5, 'Into': 4}<br />\n",
    "The word with the highest score is valley with a score of 16</div>"
   ]
  },
  {
   "cell_type": "markdown",
   "metadata": {
    "deletable": false,
    "editable": false,
    "run_control": {
     "frozen": true
    }
   },
   "source": [
    "### <font color=\"blue\">Problem 9</font>\n",
    "Write the function _scrabbleTuples_ that accepts the list parameter _words_ and uses the _computeScrabbleScore_ function developed earlier to return a list of tuples.  Each element in the list is a tuple that consists of the word and the associated Scrabble score.  However, only words with a score of 8 or greater are returned.\n",
    "\n",
    "Note, you do not need to copy the code for _computeScrabbleScore_ to the cell below.  Once problem 8 is working correctly, running the cell containing problem 8 will load _computeScrabbleScore_ into the addresspace making it available anywhere in the notebook."
   ]
  },
  {
   "cell_type": "code",
   "execution_count": 13,
   "metadata": {},
   "outputs": [
    {
     "name": "stdout",
     "output_type": "stream",
     "text": [
      "[('python', 14), ('program', 12), ('unix', 11), ('hours', 8), ('syntax', 16)]\n"
     ]
    }
   ],
   "source": [
    "# write the function below\n",
    "\n",
    "def scrabbleTuples(words):\n",
    "    result = []\n",
    "    for word in words:\n",
    "        score = computeScrabbleScore(word)\n",
    "        if score >= 8:\n",
    "            result.append((word, score))\n",
    "    return result\n",
    "\n",
    "\n",
    "# Do not change the code below\n",
    "\n",
    "my_words = ['python', 'program', 'list', 'string', 'unix', 'hours', 'syntax', 'error']\n",
    "result = scrabbleTuples(my_words)\n",
    "print(result)"
   ]
  },
  {
   "cell_type": "markdown",
   "metadata": {
    "deletable": false,
    "editable": false,
    "run_control": {
     "frozen": true
    }
   },
   "source": [
    "<div class=\"alert alert-warning\">\n",
    "    <font face=\"verdana\" size=\"2\" color=\"033971\"><strong>Expected Output:</strong><br />\n",
    "[('python', 14), ('program', 12), ('unix', 11), ('hours', 8), ('syntax', 16)]</div>"
   ]
  },
  {
   "cell_type": "markdown",
   "metadata": {
    "deletable": false,
    "editable": false,
    "run_control": {
     "frozen": true
    }
   },
   "source": [
    "### <font color=\"blue\">Problem 10</font>\n",
    "Create a function called _pigLatin_ that accepts  a string of English words in the parameter _sentence_ and returns a string of those words translated into Pig Latin. English is translated to Pig Latin by taking the first letter of every word, moving it to the end of the word and adding ‘ay’. For example the sentence “The quick brown fox” becomes “hetay uickqay rownbay oxfay”.  You may assume the words in the parameter _sentence_ are separated by a space.\n",
    "Your code needs to do the following:\n",
    "1. Print the original sentence.\n",
    "2. Print the Pig Latin sentence\n",
    "3. Use the _scrabbleTuples_ function, developed earlier, to produce a list of tuples of the Pig Latin words and their associated Scrabble scores.\n",
    "4. Print the list of Pig Latin tuples. "
   ]
  },
  {
   "cell_type": "code",
   "execution_count": 10,
   "metadata": {},
   "outputs": [
    {
     "name": "stdout",
     "output_type": "stream",
     "text": [
      "The quick brown fox jumps over the lazy dog\n",
      "hetay uickqay rownbay oxfay umpsjay veroay hetay azylay ogday\n",
      "[('hetay', 11), ('uickqay', 25), ('rownbay', 15), ('oxfay', 18), ('umpsjay', 21), ('veroay', 16), ('hetay', 11), ('azylay', 21), ('ogday', 10)]\n"
     ]
    }
   ],
   "source": [
    "# write the function below\n",
    "\n",
    "def scrabbleTuples(words):\n",
    "    letter_scores = {\n",
    "        'a': 1, 'b': 3, 'c': 3, 'd': 2, 'e': 1, 'f':4, 'g': 2, 'h':4, 'i':1,'j':8, 'k':5,\n",
    "                 'l':1, 'm':3, 'n':1, 'o':1, 'p':3, 'q':10, 'r':1, 's':1, 't':1, 'u':1,'v':8, 'w':4,\n",
    "                 'x':8, 'y':4, 'z':10}\n",
    "    #3\n",
    "    tuples_list = []\n",
    "    for word in words:\n",
    "        score = sum(letter_scores.get(letter.lower(), 0) for letter in word)\n",
    "        tuples_list.append((word, score))\n",
    "    return tuples_list\n",
    "\n",
    "def pigLatin(sentence):\n",
    "    #1\n",
    "    print(sentence)\n",
    "    words = sentence.split()\n",
    "    pig_latin_words = []\n",
    "    for word in words:\n",
    "        if len(word) > 0:\n",
    "            pig_latin_word = word[1:] + word[0].lower() + 'ay'\n",
    "            pig_latin_words.append(pig_latin_word)\n",
    "    pig_latin_sentence = ' '.join(pig_latin_words)\n",
    "    #2\n",
    "    print(pig_latin_sentence)\n",
    "    pig_latin_tuples = scrabbleTuples(pig_latin_words)\n",
    "    #4\n",
    "    print(pig_latin_tuples)\n",
    "  \n",
    "\n",
    "# Use the variable below to test\n",
    "\n",
    "sentence = 'The quick brown fox jumps over the lazy dog'\n",
    "\n",
    "# write your code below\n",
    "\n",
    "pigLatin(sentence)\n"
   ]
  },
  {
   "cell_type": "markdown",
   "metadata": {
    "deletable": false,
    "editable": false,
    "run_control": {
     "frozen": true
    }
   },
   "source": [
    "<div class=\"alert alert-warning\">\n",
    "    <font face=\"verdana\" size=\"2\" color=\"033971\"><strong>Expected Output:</strong><br />\n",
    "The quick brown fox jumps over the lazy dog<br/>\n",
    "heTay uickqay rownbay oxfay umpsjay veroay hetay azylay ogday<br/> \n",
    "[('heTay', 11), ('uickqay', 25), ('rownbay', 15), ('oxfay', 18), ('umpsjay', 21), ('veroay', 16), ('hetay', 11), ('azylay', 21), ('ogday', 10)]</div>"
   ]
  },
  {
   "cell_type": "markdown",
   "metadata": {
    "deletable": false,
    "editable": false,
    "run_control": {
     "frozen": true
    }
   },
   "source": [
    "### <font color=\"blue\">Run the cells below to test your code</font>"
   ]
  },
  {
   "cell_type": "code",
   "execution_count": 14,
   "metadata": {
    "deletable": false,
    "editable": false
   },
   "outputs": [],
   "source": [
    "import unittest\n",
    "\n",
    "class PS05_01 (unittest.TestCase):\n",
    "    def test_problem01(self):\n",
    "        self.assertEqual(isFactor(20,10), True)\n",
    "        self.assertEqual(isFactor(20,11), False)\n",
    "        self.assertEqual(isFactor('a',11), 'badargs')       \n",
    "        self.assertEqual(isFactor(20,'a'), 'badargs')\n",
    "        self.assertEqual(isFactor('b','a'), 'badargs')        \n",
    "class PS05_02 (unittest.TestCase):\n",
    "    def test_problem02(self):\n",
    "        l = ['a','b','c']\n",
    "        r = removeColor('b',l)\n",
    "        self.assertEqual(l, ['a','c'])\n",
    "        if not r:\n",
    "            raise AssertionError('removeColor did not return True for a valid case')       \n",
    "        l = ['a','b','c']\n",
    "        r = removeColor('z',l)        \n",
    "        self.assertEqual(l, ['a','b','c'])\n",
    "        if r:\n",
    "            raise AssertionError('removeColor did not return False for an invalid case')    \n",
    "class PS05_03 (unittest.TestCase):\n",
    "    def test_problem03(self):\n",
    "        s = 'The quick brown fox jumps over the lazy dog'\n",
    "        c = countVowels(s)\n",
    "        self.assertEqual(c,11)\n",
    "        c = countVowels(None)\n",
    "        self.assertEqual(c,False)        \n",
    "class PS05_04 (unittest.TestCase):\n",
    "    def test_problem04(self):\n",
    "        d = {'a':11, 'b':21, 'c':31}\n",
    "        self.assertEqual(getValues(d), [11,21,31])\n",
    "        self.assertEqual(getValues(None), False) \n",
    "        self.assertEqual(getValues(5), False)   \n",
    "class PS05_05 (unittest.TestCase):\n",
    "    def test_problem05(self):\n",
    "        l = [1, 15.5, 73, 3, 6.5, 105, 24]\n",
    "        self.assertEqual(maxInList(l), 105)\n",
    "        l = [1,'abc',173, 3, 6.5, (100,200), 24]\n",
    "        self.assertEqual(maxInList(l),173)        \n",
    "        l = []\n",
    "        self.assertEqual(maxInList(l), False)\n",
    "        l = {}\n",
    "        self.assertEqual(maxInList(l), False)        \n",
    "class PS05_06 (unittest.TestCase):\n",
    "    def test_problem06(self):\n",
    "        s = 'Able amy August Bus Board burn'\n",
    "        r = {'a': ['Able', 'amy', 'August'], 'b': ['Bus', 'Board', 'burn']}\n",
    "        self.assertEqual(wordsStartingWith(s), r)\n",
    "class PS05_07 (unittest.TestCase):\n",
    "    def test_problem07(self):\n",
    "        l = [2,4,6]\n",
    "        self.assertEqual(myMap(square,l), [4,16,36])\n",
    "class PS05_08 (unittest.TestCase):\n",
    "    def test_problem08(self):\n",
    "        l = ['Half','a','mile']\n",
    "        d = wordScore(l)\n",
    "        self.assertEqual(d, {'Half': 10, 'a': 1, 'mile': 6})\n",
    "        t = bestWord(d)\n",
    "        self.assertEqual(t[0],'Half')\n",
    "        self.assertEqual(t[1],10)\n",
    "class PS05_09 (unittest.TestCase):\n",
    "    def test_problem09(self):\n",
    "        my_words = ['python', 'program', 'list']\n",
    "        result = scrabbleTuples(my_words)\n",
    "        self.assertEqual(result,[('python', 14), ('program', 12)])\n",
    "class PS05_10 (unittest.TestCase):\n",
    "    def test_problem10(self):\n",
    "        s = 'The quick brown'\n",
    "        pl_s = pigLatin(s)\n",
    "        if pl_s[-1] == \" \":\n",
    "            pl_s = pl_s[0:-1]\n",
    "        self.assertEqual(pl_s, \"heTay uickqay rownbay\")  "
   ]
  },
  {
   "cell_type": "code",
   "execution_count": 15,
   "metadata": {
    "deletable": false,
    "editable": false
   },
   "outputs": [
    {
     "name": "stderr",
     "output_type": "stream",
     "text": [
      "test_problem01 (__main__.PS05_01.test_problem01) ... ok\n",
      "test_problem02 (__main__.PS05_02.test_problem02) ... ok\n",
      "test_problem03 (__main__.PS05_03.test_problem03) ... ok\n",
      "test_problem04 (__main__.PS05_04.test_problem04) ... ok\n",
      "test_problem05 (__main__.PS05_05.test_problem05) ... ok\n",
      "test_problem06 (__main__.PS05_06.test_problem06) ... ok\n",
      "test_problem07 (__main__.PS05_07.test_problem07) ... ok\n",
      "test_problem08 (__main__.PS05_08.test_problem08) ... ok\n",
      "test_problem09 (__main__.PS05_09.test_problem09) ... ok\n",
      "test_problem10 (__main__.PS05_10.test_problem10) ... ERROR\n",
      "\n",
      "======================================================================\n",
      "ERROR: test_problem10 (__main__.PS05_10.test_problem10)\n",
      "----------------------------------------------------------------------\n",
      "Traceback (most recent call last):\n",
      "  File \"/var/folders/j4/_rqh04k128g737vyrkp03x8w0000gn/T/ipykernel_34457/3316750862.py\", line 71, in test_problem10\n",
      "    if pl_s[-1] == \" \":\n",
      "       ~~~~^^^^\n",
      "TypeError: 'NoneType' object is not subscriptable\n",
      "\n",
      "----------------------------------------------------------------------\n",
      "Ran 10 tests in 0.009s\n",
      "\n",
      "FAILED (errors=1)\n"
     ]
    },
    {
     "name": "stdout",
     "output_type": "stream",
     "text": [
      "The quick brown\n",
      "hetay uickqay rownbay\n",
      "[('hetay', 11), ('uickqay', 25), ('rownbay', 15)]\n"
     ]
    },
    {
     "data": {
      "text/plain": [
       "<unittest.main.TestProgram at 0x1076ddd60>"
      ]
     },
     "execution_count": 15,
     "metadata": {},
     "output_type": "execute_result"
    }
   ],
   "source": [
    "unittest.main(argv=['first-arg-is-ignored'], exit=False, verbosity=2)"
   ]
  },
  {
   "cell_type": "code",
   "execution_count": null,
   "metadata": {},
   "outputs": [],
   "source": []
  }
 ],
 "metadata": {
  "kernelspec": {
   "display_name": "Python 3 (ipykernel)",
   "language": "python",
   "name": "python3"
  },
  "language_info": {
   "codemirror_mode": {
    "name": "ipython",
    "version": 3
   },
   "file_extension": ".py",
   "mimetype": "text/x-python",
   "name": "python",
   "nbconvert_exporter": "python",
   "pygments_lexer": "ipython3",
   "version": "3.12.5"
  },
  "varInspector": {
   "cols": {
    "lenName": 16,
    "lenType": 16,
    "lenVar": 40
   },
   "kernels_config": {
    "python": {
     "delete_cmd_postfix": "",
     "delete_cmd_prefix": "del ",
     "library": "var_list.py",
     "varRefreshCmd": "print(var_dic_list())"
    },
    "r": {
     "delete_cmd_postfix": ") ",
     "delete_cmd_prefix": "rm(",
     "library": "var_list.r",
     "varRefreshCmd": "cat(var_dic_list()) "
    }
   },
   "types_to_exclude": [
    "module",
    "function",
    "builtin_function_or_method",
    "instance",
    "_Feature"
   ],
   "window_display": false
  }
 },
 "nbformat": 4,
 "nbformat_minor": 4
}
