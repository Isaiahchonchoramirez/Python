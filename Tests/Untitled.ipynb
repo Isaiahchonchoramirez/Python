{
 "cells": [
  {
   "cell_type": "code",
   "execution_count": 4,
   "id": "10c7f3ef-13bf-439b-8381-a8711c6e2f66",
   "metadata": {},
   "outputs": [
    {
     "name": "stdout",
     "output_type": "stream",
     "text": [
      "Raw Text Retrieved:\n",
      "Coding assessment input data examplePublished using Google DocsReport abuseLearn moreCoding assessment input data exampleUpdated automatically every 5 minutesThis is an example document showing the format of the input data for the coding assessment exercise.x-coordinateCharactery-coordinate0█00█10█21▀11▀22▀12▀23▀2\n",
      "End of Raw Text\n",
      "\n",
      "Parsed Data:\n",
      "[]\n",
      "End of Parsed Data\n",
      "\n",
      "No valid data found. Check the input format.\n"
     ]
    }
   ],
   "source": [
    "import requests\n",
    "from bs4 import BeautifulSoup\n",
    "\n",
    "def decode_secret_message(url):\n",
    "    \"\"\"\n",
    "    Decodes a secret message from a Google Doc.\n",
    "\n",
    "    Args:\n",
    "        url: The URL of the Google Doc containing the character data.\n",
    "    \"\"\"\n",
    "\n",
    "    try:\n",
    "        # Fetch the URL content\n",
    "        response = requests.get(url)\n",
    "        response.raise_for_status()  # Raise an exception for bad status codes\n",
    "\n",
    "        # Parse the HTML content using BeautifulSoup\n",
    "        soup = BeautifulSoup(response.content, 'html.parser')\n",
    "        text = soup.get_text()\n",
    "\n",
    "        # Debug: Print raw text for verification\n",
    "        print(\"Raw Text Retrieved:\")\n",
    "        print(text)\n",
    "        print(\"End of Raw Text\\n\")\n",
    "\n",
    "        # Split the content into lines\n",
    "        lines = text.splitlines()\n",
    "        \n",
    "        # Parse the lines to extract relevant character data\n",
    "        data = []\n",
    "        for i in range(2, len(lines) - 2, 3):  # Data starts after header; assume format\n",
    "            try:\n",
    "                x = int(lines[i].strip())  # x-coordinate\n",
    "                char = lines[i + 1].strip()  # Character\n",
    "                y = int(lines[i + 2].strip())  # y-coordinate\n",
    "                data.append((x, char, y))\n",
    "            except (ValueError, IndexError):\n",
    "                continue  # Skip any invalid or incomplete lines\n",
    "\n",
    "        # Debug: Print parsed data\n",
    "        print(\"Parsed Data:\")\n",
    "        print(data)\n",
    "        print(\"End of Parsed Data\\n\")\n",
    "\n",
    "        # If no valid data was found, raise an error\n",
    "        if not data:\n",
    "            print(\"No valid data found. Check the input format.\")\n",
    "            return\n",
    "\n",
    "        # Find the maximum x and y coordinates to determine grid size\n",
    "        max_x = max(item[0] for item in data)\n",
    "        max_y = max(item[2] for item in data)\n",
    "\n",
    "        # Create the grid and fill it with spaces\n",
    "        grid = [[' ' for _ in range(max_x + 1)] for _ in range(max_y + 1)]\n",
    "\n",
    "        # Place the characters in the grid\n",
    "        for x, char, y in data:\n",
    "            grid[y][x] = char\n",
    "\n",
    "        # Print the grid\n",
    "        print(\"Decoded Secret Message:\")\n",
    "        for row in grid:\n",
    "            print(''.join(row))\n",
    "\n",
    "    except requests.exceptions.RequestException as e:\n",
    "        print(f\"Error fetching the URL: {e}\")\n",
    "    except Exception as e:\n",
    "        print(f\"An error occurred: {e}\")\n",
    "\n",
    "\n",
    "# Example usage (replace with the actual URL)\n",
    "url = \"https://docs.google.com/document/d/e/2PACX-1vRMx5YQlZNa3ra8dYYxmv-QIQ3YJe8tbI3kqcuC7lQiZm-CSEznKfN_HYNSpoXcZIV3Y_O3YoUB1ecq/pub\"\n",
    "decode_secret_message(url)\n"
   ]
  },
  {
   "cell_type": "code",
   "execution_count": null,
   "id": "67e5f442-c280-4b64-8860-313d1822c6db",
   "metadata": {},
   "outputs": [],
   "source": [
    " \n"
   ]
  },
  {
   "cell_type": "code",
   "execution_count": null,
   "id": "48fd0144-1877-46c4-b35f-0bc2db19efe1",
   "metadata": {},
   "outputs": [],
   "source": []
  }
 ],
 "metadata": {
  "kernelspec": {
   "display_name": "Python 3 (ipykernel)",
   "language": "python",
   "name": "python3"
  },
  "language_info": {
   "codemirror_mode": {
    "name": "ipython",
    "version": 3
   },
   "file_extension": ".py",
   "mimetype": "text/x-python",
   "name": "python",
   "nbconvert_exporter": "python",
   "pygments_lexer": "ipython3",
   "version": "3.12.5"
  }
 },
 "nbformat": 4,
 "nbformat_minor": 5
}
